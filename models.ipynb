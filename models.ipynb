{
 "cells": [
  {
   "cell_type": "code",
   "execution_count": 4,
   "metadata": {},
   "outputs": [
    {
     "name": "stderr",
     "output_type": "stream",
     "text": [
      "/Users/constantinwiederin/anaconda3/lib/python3.11/site-packages/pandas/core/arrays/masked.py:60: UserWarning: Pandas requires version '1.3.6' or newer of 'bottleneck' (version '1.3.5' currently installed).\n",
      "  from pandas.core import (\n"
     ]
    }
   ],
   "source": [
    "import tensorflow as tf\n",
    "from tensorflow import keras\n",
    "from tensorflow.keras import optimizers\n",
    "from tensorflow.keras.models import Sequential, Model\n",
    "from tensorflow.keras.layers import Dense, Input, Dropout, Embedding, LSTM\n",
    "from tensorflow.keras.optimizers import RMSprop, Adam, Nadam\n",
    "from tensorflow.keras.preprocessing import sequence\n",
    "from tensorflow.keras.callbacks import TensorBoard\n",
    "import sklearn\n",
    "from sklearn.preprocessing import StandardScaler\n",
    "from sklearn.preprocessing import MinMaxScaler\n",
    "from sklearn.model_selection import train_test_split\n",
    "from sklearn.metrics import confusion_matrix, roc_auc_score, classification_report\n",
    "import seaborn as sns\n",
    "import pandas as pd\n",
    "import numpy as np\n",
    "import matplotlib.pyplot as plt\n",
    "import matplotlib.gridspec as gridspec"
   ]
  },
  {
   "cell_type": "code",
   "execution_count": 5,
   "metadata": {},
   "outputs": [
    {
     "name": "stderr",
     "output_type": "stream",
     "text": [
      "/var/folders/6g/x5lm6rt15m9bd1llv55ld0_h0000gn/T/ipykernel_8567/3346137704.py:1: DtypeWarning: Columns (15) have mixed types. Specify dtype option on import or set low_memory=False.\n",
      "  data = pd.read_csv('combined_leaks.csv', sep=',')\n"
     ]
    }
   ],
   "source": [
    "data = pd.read_csv('combined_leaks.csv', sep=',')"
   ]
  },
  {
   "cell_type": "code",
   "execution_count": 17,
   "metadata": {},
   "outputs": [
    {
     "data": {
      "image/png": "[encoded data removed]",
      "text/plain": [
       "<Figure size 640x480 with 1 Axes>"
      ]
     },
     "metadata": {},
     "output_type": "display_data"
    }
   ],
   "source": [
    "# Get unique flight names that contain 'L'\n",
    "unique_L_flights = len([flight for flight in data['Flight'].unique() if 'L' in str(flight)])\n",
    "\n",
    "# Get unique flight names that don't contain 'L'\n",
    "unique_non_L_flights = len([flight for flight in data['Flight'].unique() if 'L' not in str(flight)])\n",
    "\n",
    "# Create a bar plot\n",
    "plt.bar(['Flights with Leakages', 'Flights without Leakage'], [unique_L_flights, unique_non_L_flights])\n",
    "plt.ylabel('Number of Unique Flights')\n",
    "plt.title('Number of Unique Flights With and Without Leakages')\n",
    "plt.show()"
   ]
  },
  {
   "cell_type": "code",
   "execution_count": 12,
   "metadata": {},
   "outputs": [
    {
     "name": "stdout",
     "output_type": "stream",
     "text": [
      "Training data shape: (280539, 33)\n",
      "Testing data shape: (94288, 33)\n"
     ]
    }
   ],
   "source": [
    "# Select a split point\n",
    "split_date = '2018-02-01'  # Example split date\n",
    "\n",
    "# Split the data into train and test sets\n",
    "train_df = data[data['UTC_TIME'] < split_date]\n",
    "test_df = data[data['UTC_TIME'] >= split_date]\n",
    "\n",
    "# Display the shapes of the resulting dataframes\n",
    "print(f'Training data shape: {train_df.shape}')\n",
    "print(f'Testing data shape: {test_df.shape}')"
   ]
  },
  {
   "cell_type": "code",
   "execution_count": 19,
   "metadata": {},
   "outputs": [
    {
     "name": "stdout",
     "output_type": "stream",
     "text": [
      "Number of flights with Leakage in their name in Train: 92\n",
      "Number of flights with Leakage in their name in Test: 15\n"
     ]
    }
   ],
   "source": [
    "#Count the number of flights with L in their name in Train and Test\n",
    "train_L_flights = len([flight for flight in train_df['Flight'].unique() if 'L' in str(flight)])\n",
    "test_L_flights = len([flight for flight in test_df['Flight'].unique() if 'L' in str(flight)])\n",
    "\n",
    "#Print the 2 numbers to compare\n",
    "print(f'Number of flights with Leakage in their name in Train: {train_L_flights}')\n",
    "print(f'Number of flights with Leakage in their name in Test: {test_L_flights}')"
   ]
  },
  {
   "cell_type": "code",
   "execution_count": 14,
   "metadata": {},
   "outputs": [
    {
     "data": {
      "text/plain": [
       "UTC_TIME                                      object\n",
       "FUEL_USED_2                                  float64\n",
       "FUEL_USED_3                                  float64\n",
       "FUEL_USED_4                                  float64\n",
       "FW_GEO_ALTITUDE                              float64\n",
       "VALUE_FOB                                    float64\n",
       "VALUE_FUEL_QTY_CT                            float64\n",
       "VALUE_FUEL_QTY_FT1                           float64\n",
       "VALUE_FUEL_QTY_FT2                           float64\n",
       "VALUE_FUEL_QTY_FT3                           float64\n",
       "VALUE_FUEL_QTY_FT4                           float64\n",
       "VALUE_FUEL_QTY_LXT                           float64\n",
       "VALUE_FUEL_QTY_RXT                           float64\n",
       "FLIGHT_PHASE_COUNT                           float64\n",
       "FUEL_USED_1                                  float64\n",
       "Flight                                        object\n",
       "MSN                                           object\n",
       "total_fuel_used                              float64\n",
       "Fuel_On_board_tanks                          float64\n",
       "FOB - total_fuel_used                        float64\n",
       "fuel_used_per_minute_FOB_diff                float64\n",
       "fuel_used_per_minute_total_fuel_used_diff    float64\n",
       "cummalitive_fuel_used                        float64\n",
       "initial_FOB                                  float64\n",
       "initial_FOB_calculated                       float64\n",
       "fuel_used+FOB                                float64\n",
       "diff_initial_FOB_fuel_used+FOB               float64\n",
       "predicted_FOB                                float64\n",
       "diff_initial_FOB                             float64\n",
       "alititude_diff                               float64\n",
       "diff_FOB                                     float64\n",
       "Real_FOB-predicted_FOB                       float64\n",
       "FAKE_LEAKAGE                                 float64\n",
       "dtype: object"
      ]
     },
     "execution_count": 14,
     "metadata": {},
     "output_type": "execute_result"
    }
   ],
   "source": [
    "data.dtypes"
   ]
  },
  {
   "cell_type": "code",
   "execution_count": null,
   "metadata": {},
   "outputs": [],
   "source": []
  },
  {
   "cell_type": "code",
   "execution_count": 15,
   "metadata": {},
   "outputs": [
    {
     "name": "stderr",
     "output_type": "stream",
     "text": [
      "/var/folders/6g/x5lm6rt15m9bd1llv55ld0_h0000gn/T/ipykernel_8567/964154512.py:24: SettingWithCopyWarning: \n",
      "A value is trying to be set on a copy of a slice from a DataFrame.\n",
      "Try using .loc[row_indexer,col_indexer] = value instead\n",
      "\n",
      "See the caveats in the documentation: https://pandas.pydata.org/pandas-docs/stable/user_guide/indexing.html#returning-a-view-versus-a-copy\n",
      "  train_df[numerical_columns] = scaler.transform(train_df[numerical_columns])\n",
      "/var/folders/6g/x5lm6rt15m9bd1llv55ld0_h0000gn/T/ipykernel_8567/964154512.py:27: SettingWithCopyWarning: \n",
      "A value is trying to be set on a copy of a slice from a DataFrame.\n",
      "Try using .loc[row_indexer,col_indexer] = value instead\n",
      "\n",
      "See the caveats in the documentation: https://pandas.pydata.org/pandas-docs/stable/user_guide/indexing.html#returning-a-view-versus-a-copy\n",
      "  test_df[numerical_columns] = scaler.transform(test_df[numerical_columns])\n"
     ]
    }
   ],
   "source": [
    "# Define the list of numerical columns based on the provided list\n",
    "numerical_columns = [\n",
    "    'FUEL_USED_2', 'FUEL_USED_3', 'FUEL_USED_4', 'FW_GEO_ALTITUDE', 'VALUE_FOB', 'VALUE_FUEL_QTY_CT', \n",
    "    'VALUE_FUEL_QTY_FT1', 'VALUE_FUEL_QTY_FT2', 'VALUE_FUEL_QTY_FT3', 'VALUE_FUEL_QTY_FT4', \n",
    "    'VALUE_FUEL_QTY_LXT', 'VALUE_FUEL_QTY_RXT', 'FLIGHT_PHASE_COUNT', 'FUEL_USED_1', 'total_fuel_used', \n",
    "    'Fuel_On_board_tanks', 'FOB - total_fuel_used', 'fuel_used_per_minute_FOB_diff', \n",
    "    'fuel_used_per_minute_total_fuel_used_diff', 'cummalitive_fuel_used', 'initial_FOB', \n",
    "    'initial_FOB_calculated', 'fuel_used+FOB', 'diff_initial_FOB_fuel_used+FOB', 'predicted_FOB', \n",
    "    'diff_initial_FOB', 'alititude_diff', 'diff_FOB', 'Real_FOB-predicted_FOB', 'FAKE_LEAKAGE'\n",
    "]\n",
    "\n",
    "# Define the list of categorical columns\n",
    "categorical_columns = ['Flight', 'UTC_TIME']\n",
    "\n",
    "# Initialize the scaler\n",
    "scaler = StandardScaler()\n",
    "\n",
    "# Fit the scaler on the training data\n",
    "scaler.fit(train_df[numerical_columns])\n",
    "\n",
    "# Transform the training data\n",
    "train_df[numerical_columns] = scaler.transform(train_df[numerical_columns])\n",
    "\n",
    "# Transform the testing data\n",
    "test_df[numerical_columns] = scaler.transform(test_df[numerical_columns])\n"
   ]
  },
  {
   "cell_type": "code",
   "execution_count": 16,
   "metadata": {},
   "outputs": [
    {
     "data": {
      "text/html": [
       "<pre style=\"white-space:pre;overflow-x:auto;line-height:normal;font-family:Menlo,'DejaVu Sans Mono',consolas,'Courier New',monospace\"><span style=\"font-weight: bold\">Model: \"functional_1\"</span>\n",
       "</pre>\n"
      ],
      "text/plain": [
       "\u001b[1mModel: \"functional_1\"\u001b[0m\n"
      ]
     },
     "metadata": {},
     "output_type": "display_data"
    },
    {
     "data": {
      "text/html": [
       "<pre style=\"white-space:pre;overflow-x:auto;line-height:normal;font-family:Menlo,'DejaVu Sans Mono',consolas,'Courier New',monospace\">┏━━━━━━━━━━━━━━━━━━━━━━━━━━━━━━━━━┳━━━━━━━━━━━━━━━━━━━━━━━━┳━━━━━━━━━━━━━━━┓\n",
       "┃<span style=\"font-weight: bold\"> Layer (type)                    </span>┃<span style=\"font-weight: bold\"> Output Shape           </span>┃<span style=\"font-weight: bold\">       Param # </span>┃\n",
       "┡━━━━━━━━━━━━━━━━━━━━━━━━━━━━━━━━━╇━━━━━━━━━━━━━━━━━━━━━━━━╇━━━━━━━━━━━━━━━┩\n",
       "│ input_layer (<span style=\"color: #0087ff; text-decoration-color: #0087ff\">InputLayer</span>)        │ (<span style=\"color: #00d7ff; text-decoration-color: #00d7ff\">None</span>, <span style=\"color: #00af00; text-decoration-color: #00af00\">1</span>)              │             <span style=\"color: #00af00; text-decoration-color: #00af00\">0</span> │\n",
       "├─────────────────────────────────┼────────────────────────┼───────────────┤\n",
       "│ dense (<span style=\"color: #0087ff; text-decoration-color: #0087ff\">Dense</span>)                   │ (<span style=\"color: #00d7ff; text-decoration-color: #00d7ff\">None</span>, <span style=\"color: #00af00; text-decoration-color: #00af00\">12</span>)             │            <span style=\"color: #00af00; text-decoration-color: #00af00\">24</span> │\n",
       "├─────────────────────────────────┼────────────────────────┼───────────────┤\n",
       "│ dense_1 (<span style=\"color: #0087ff; text-decoration-color: #0087ff\">Dense</span>)                 │ (<span style=\"color: #00d7ff; text-decoration-color: #00d7ff\">None</span>, <span style=\"color: #00af00; text-decoration-color: #00af00\">1</span>)              │            <span style=\"color: #00af00; text-decoration-color: #00af00\">13</span> │\n",
       "└─────────────────────────────────┴────────────────────────┴───────────────┘\n",
       "</pre>\n"
      ],
      "text/plain": [
       "┏━━━━━━━━━━━━━━━━━━━━━━━━━━━━━━━━━┳━━━━━━━━━━━━━━━━━━━━━━━━┳━━━━━━━━━━━━━━━┓\n",
       "┃\u001b[1m \u001b[0m\u001b[1mLayer (type)                   \u001b[0m\u001b[1m \u001b[0m┃\u001b[1m \u001b[0m\u001b[1mOutput Shape          \u001b[0m\u001b[1m \u001b[0m┃\u001b[1m \u001b[0m\u001b[1m      Param #\u001b[0m\u001b[1m \u001b[0m┃\n",
       "┡━━━━━━━━━━━━━━━━━━━━━━━━━━━━━━━━━╇━━━━━━━━━━━━━━━━━━━━━━━━╇━━━━━━━━━━━━━━━┩\n",
       "│ input_layer (\u001b[38;5;33mInputLayer\u001b[0m)        │ (\u001b[38;5;45mNone\u001b[0m, \u001b[38;5;34m1\u001b[0m)              │             \u001b[38;5;34m0\u001b[0m │\n",
       "├─────────────────────────────────┼────────────────────────┼───────────────┤\n",
       "│ dense (\u001b[38;5;33mDense\u001b[0m)                   │ (\u001b[38;5;45mNone\u001b[0m, \u001b[38;5;34m12\u001b[0m)             │            \u001b[38;5;34m24\u001b[0m │\n",
       "├─────────────────────────────────┼────────────────────────┼───────────────┤\n",
       "│ dense_1 (\u001b[38;5;33mDense\u001b[0m)                 │ (\u001b[38;5;45mNone\u001b[0m, \u001b[38;5;34m1\u001b[0m)              │            \u001b[38;5;34m13\u001b[0m │\n",
       "└─────────────────────────────────┴────────────────────────┴───────────────┘\n"
      ]
     },
     "metadata": {},
     "output_type": "display_data"
    },
    {
     "data": {
      "text/html": [
       "<pre style=\"white-space:pre;overflow-x:auto;line-height:normal;font-family:Menlo,'DejaVu Sans Mono',consolas,'Courier New',monospace\"><span style=\"font-weight: bold\"> Total params: </span><span style=\"color: #00af00; text-decoration-color: #00af00\">37</span> (148.00 B)\n",
       "</pre>\n"
      ],
      "text/plain": [
       "\u001b[1m Total params: \u001b[0m\u001b[38;5;34m37\u001b[0m (148.00 B)\n"
      ]
     },
     "metadata": {},
     "output_type": "display_data"
    },
    {
     "data": {
      "text/html": [
       "<pre style=\"white-space:pre;overflow-x:auto;line-height:normal;font-family:Menlo,'DejaVu Sans Mono',consolas,'Courier New',monospace\"><span style=\"font-weight: bold\"> Trainable params: </span><span style=\"color: #00af00; text-decoration-color: #00af00\">37</span> (148.00 B)\n",
       "</pre>\n"
      ],
      "text/plain": [
       "\u001b[1m Trainable params: \u001b[0m\u001b[38;5;34m37\u001b[0m (148.00 B)\n"
      ]
     },
     "metadata": {},
     "output_type": "display_data"
    },
    {
     "data": {
      "text/html": [
       "<pre style=\"white-space:pre;overflow-x:auto;line-height:normal;font-family:Menlo,'DejaVu Sans Mono',consolas,'Courier New',monospace\"><span style=\"font-weight: bold\"> Non-trainable params: </span><span style=\"color: #00af00; text-decoration-color: #00af00\">0</span> (0.00 B)\n",
       "</pre>\n"
      ],
      "text/plain": [
       "\u001b[1m Non-trainable params: \u001b[0m\u001b[38;5;34m0\u001b[0m (0.00 B)\n"
      ]
     },
     "metadata": {},
     "output_type": "display_data"
    },
    {
     "name": "stdout",
     "output_type": "stream",
     "text": [
      "Epoch 1/50\n",
      "\u001b[1m28054/28054\u001b[0m \u001b[32m━━━━━━━━━━━━━━━━━━━━\u001b[0m\u001b[37m\u001b[0m \u001b[1m8s\u001b[0m 263us/step - loss: 0.4877 - val_loss: 3.2244\n",
      "Epoch 2/50\n",
      "\u001b[1m28054/28054\u001b[0m \u001b[32m━━━━━━━━━━━━━━━━━━━━\u001b[0m\u001b[37m\u001b[0m \u001b[1m7s\u001b[0m 261us/step - loss: 0.4679 - val_loss: 3.2232\n",
      "Epoch 3/50\n",
      "\u001b[1m28054/28054\u001b[0m \u001b[32m━━━━━━━━━━━━━━━━━━━━\u001b[0m\u001b[37m\u001b[0m \u001b[1m7s\u001b[0m 262us/step - loss: 0.4674 - val_loss: 3.2224\n",
      "Epoch 4/50\n",
      "\u001b[1m28054/28054\u001b[0m \u001b[32m━━━━━━━━━━━━━━━━━━━━\u001b[0m\u001b[37m\u001b[0m \u001b[1m7s\u001b[0m 265us/step - loss: 0.4670 - val_loss: 3.2222\n",
      "Epoch 5/50\n",
      "\u001b[1m28054/28054\u001b[0m \u001b[32m━━━━━━━━━━━━━━━━━━━━\u001b[0m\u001b[37m\u001b[0m \u001b[1m8s\u001b[0m 270us/step - loss: 0.4669 - val_loss: 3.2221\n",
      "Epoch 6/50\n",
      "\u001b[1m28054/28054\u001b[0m \u001b[32m━━━━━━━━━━━━━━━━━━━━\u001b[0m\u001b[37m\u001b[0m \u001b[1m8s\u001b[0m 267us/step - loss: 0.4668 - val_loss: 3.2220\n",
      "Epoch 7/50\n",
      "\u001b[1m28054/28054\u001b[0m \u001b[32m━━━━━━━━━━━━━━━━━━━━\u001b[0m\u001b[37m\u001b[0m \u001b[1m7s\u001b[0m 267us/step - loss: 0.4668 - val_loss: 3.2220\n",
      "Epoch 8/50\n",
      "\u001b[1m28054/28054\u001b[0m \u001b[32m━━━━━━━━━━━━━━━━━━━━\u001b[0m\u001b[37m\u001b[0m \u001b[1m8s\u001b[0m 290us/step - loss: 0.4668 - val_loss: 3.2219\n",
      "Epoch 9/50\n",
      "\u001b[1m28054/28054\u001b[0m \u001b[32m━━━━━━━━━━━━━━━━━━━━\u001b[0m\u001b[37m\u001b[0m \u001b[1m8s\u001b[0m 270us/step - loss: 0.4667 - val_loss: 3.2218\n",
      "Epoch 10/50\n",
      "\u001b[1m28054/28054\u001b[0m \u001b[32m━━━━━━━━━━━━━━━━━━━━\u001b[0m\u001b[37m\u001b[0m \u001b[1m7s\u001b[0m 266us/step - loss: 0.4667 - val_loss: 3.2218\n",
      "Epoch 11/50\n",
      "\u001b[1m28054/28054\u001b[0m \u001b[32m━━━━━━━━━━━━━━━━━━━━\u001b[0m\u001b[37m\u001b[0m \u001b[1m7s\u001b[0m 264us/step - loss: 0.4667 - val_loss: 3.2217\n",
      "Epoch 12/50\n",
      "\u001b[1m28054/28054\u001b[0m \u001b[32m━━━━━━━━━━━━━━━━━━━━\u001b[0m\u001b[37m\u001b[0m \u001b[1m8s\u001b[0m 268us/step - loss: 0.4667 - val_loss: 3.2217\n",
      "Epoch 13/50\n",
      "\u001b[1m28054/28054\u001b[0m \u001b[32m━━━━━━━━━━━━━━━━━━━━\u001b[0m\u001b[37m\u001b[0m \u001b[1m8s\u001b[0m 269us/step - loss: 0.4667 - val_loss: 3.2217\n",
      "Epoch 14/50\n",
      "\u001b[1m28054/28054\u001b[0m \u001b[32m━━━━━━━━━━━━━━━━━━━━\u001b[0m\u001b[37m\u001b[0m \u001b[1m7s\u001b[0m 260us/step - loss: 0.4667 - val_loss: 3.2216\n",
      "Epoch 15/50\n",
      "\u001b[1m28054/28054\u001b[0m \u001b[32m━━━━━━━━━━━━━━━━━━━━\u001b[0m\u001b[37m\u001b[0m \u001b[1m7s\u001b[0m 265us/step - loss: 0.4667 - val_loss: 3.2216\n",
      "Epoch 16/50\n",
      "\u001b[1m28054/28054\u001b[0m \u001b[32m━━━━━━━━━━━━━━━━━━━━\u001b[0m\u001b[37m\u001b[0m \u001b[1m7s\u001b[0m 262us/step - loss: 0.4667 - val_loss: 3.2215\n",
      "Epoch 17/50\n",
      "\u001b[1m28054/28054\u001b[0m \u001b[32m━━━━━━━━━━━━━━━━━━━━\u001b[0m\u001b[37m\u001b[0m \u001b[1m8s\u001b[0m 274us/step - loss: 0.4667 - val_loss: 3.2215\n",
      "Epoch 18/50\n",
      "\u001b[1m28054/28054\u001b[0m \u001b[32m━━━━━━━━━━━━━━━━━━━━\u001b[0m\u001b[37m\u001b[0m \u001b[1m8s\u001b[0m 268us/step - loss: 0.4667 - val_loss: 3.2215\n",
      "Epoch 19/50\n",
      "\u001b[1m28054/28054\u001b[0m \u001b[32m━━━━━━━━━━━━━━━━━━━━\u001b[0m\u001b[37m\u001b[0m \u001b[1m7s\u001b[0m 265us/step - loss: 0.4667 - val_loss: 3.2216\n",
      "Epoch 20/50\n",
      "\u001b[1m28054/28054\u001b[0m \u001b[32m━━━━━━━━━━━━━━━━━━━━\u001b[0m\u001b[37m\u001b[0m \u001b[1m7s\u001b[0m 262us/step - loss: 0.4667 - val_loss: 3.2216\n",
      "Epoch 21/50\n",
      "\u001b[1m28054/28054\u001b[0m \u001b[32m━━━━━━━━━━━━━━━━━━━━\u001b[0m\u001b[37m\u001b[0m \u001b[1m8s\u001b[0m 267us/step - loss: 0.4667 - val_loss: 3.2216\n",
      "Epoch 22/50\n",
      "\u001b[1m28054/28054\u001b[0m \u001b[32m━━━━━━━━━━━━━━━━━━━━\u001b[0m\u001b[37m\u001b[0m \u001b[1m7s\u001b[0m 261us/step - loss: 0.4667 - val_loss: 3.2217\n",
      "Epoch 23/50\n",
      "\u001b[1m28054/28054\u001b[0m \u001b[32m━━━━━━━━━━━━━━━━━━━━\u001b[0m\u001b[37m\u001b[0m \u001b[1m7s\u001b[0m 260us/step - loss: 0.4667 - val_loss: 3.2217\n",
      "Epoch 24/50\n",
      "\u001b[1m28054/28054\u001b[0m \u001b[32m━━━━━━━━━━━━━━━━━━━━\u001b[0m\u001b[37m\u001b[0m \u001b[1m8s\u001b[0m 267us/step - loss: 0.4667 - val_loss: 3.2217\n",
      "Epoch 25/50\n",
      "\u001b[1m28054/28054\u001b[0m \u001b[32m━━━━━━━━━━━━━━━━━━━━\u001b[0m\u001b[37m\u001b[0m \u001b[1m7s\u001b[0m 262us/step - loss: 0.4667 - val_loss: 3.2217\n",
      "Epoch 26/50\n",
      "\u001b[1m28054/28054\u001b[0m \u001b[32m━━━━━━━━━━━━━━━━━━━━\u001b[0m\u001b[37m\u001b[0m \u001b[1m7s\u001b[0m 263us/step - loss: 0.4667 - val_loss: 3.2217\n",
      "Epoch 27/50\n",
      "\u001b[1m28054/28054\u001b[0m \u001b[32m━━━━━━━━━━━━━━━━━━━━\u001b[0m\u001b[37m\u001b[0m \u001b[1m7s\u001b[0m 267us/step - loss: 0.4667 - val_loss: 3.2217\n",
      "Epoch 28/50\n",
      "\u001b[1m28054/28054\u001b[0m \u001b[32m━━━━━━━━━━━━━━━━━━━━\u001b[0m\u001b[37m\u001b[0m \u001b[1m7s\u001b[0m 261us/step - loss: 0.4667 - val_loss: 3.2217\n",
      "Epoch 29/50\n",
      "\u001b[1m28054/28054\u001b[0m \u001b[32m━━━━━━━━━━━━━━━━━━━━\u001b[0m\u001b[37m\u001b[0m \u001b[1m8s\u001b[0m 269us/step - loss: 0.4667 - val_loss: 3.2217\n",
      "Epoch 30/50\n",
      "\u001b[1m28054/28054\u001b[0m \u001b[32m━━━━━━━━━━━━━━━━━━━━\u001b[0m\u001b[37m\u001b[0m \u001b[1m8s\u001b[0m 267us/step - loss: 0.4667 - val_loss: 3.2218\n",
      "Epoch 31/50\n",
      "\u001b[1m28054/28054\u001b[0m \u001b[32m━━━━━━━━━━━━━━━━━━━━\u001b[0m\u001b[37m\u001b[0m \u001b[1m8s\u001b[0m 268us/step - loss: 0.4667 - val_loss: 3.2218\n",
      "Epoch 32/50\n",
      "\u001b[1m28054/28054\u001b[0m \u001b[32m━━━━━━━━━━━━━━━━━━━━\u001b[0m\u001b[37m\u001b[0m \u001b[1m8s\u001b[0m 274us/step - loss: 0.4667 - val_loss: 3.2217\n",
      "Epoch 33/50\n",
      "\u001b[1m28054/28054\u001b[0m \u001b[32m━━━━━━━━━━━━━━━━━━━━\u001b[0m\u001b[37m\u001b[0m \u001b[1m7s\u001b[0m 267us/step - loss: 0.4667 - val_loss: 3.2217\n",
      "Epoch 34/50\n",
      "\u001b[1m28054/28054\u001b[0m \u001b[32m━━━━━━━━━━━━━━━━━━━━\u001b[0m\u001b[37m\u001b[0m \u001b[1m7s\u001b[0m 262us/step - loss: 0.4667 - val_loss: 3.2217\n",
      "Epoch 35/50\n",
      "\u001b[1m28054/28054\u001b[0m \u001b[32m━━━━━━━━━━━━━━━━━━━━\u001b[0m\u001b[37m\u001b[0m \u001b[1m7s\u001b[0m 259us/step - loss: 0.4667 - val_loss: 3.2217\n",
      "Epoch 36/50\n",
      "\u001b[1m28054/28054\u001b[0m \u001b[32m━━━━━━━━━━━━━━━━━━━━\u001b[0m\u001b[37m\u001b[0m \u001b[1m7s\u001b[0m 261us/step - loss: 0.4667 - val_loss: 3.2217\n",
      "Epoch 37/50\n",
      "\u001b[1m28054/28054\u001b[0m \u001b[32m━━━━━━━━━━━━━━━━━━━━\u001b[0m\u001b[37m\u001b[0m \u001b[1m7s\u001b[0m 260us/step - loss: 0.4667 - val_loss: 3.2217\n",
      "Epoch 38/50\n",
      "\u001b[1m28054/28054\u001b[0m \u001b[32m━━━━━━━━━━━━━━━━━━━━\u001b[0m\u001b[37m\u001b[0m \u001b[1m7s\u001b[0m 261us/step - loss: 0.4667 - val_loss: 3.2217\n",
      "Epoch 39/50\n",
      "\u001b[1m28054/28054\u001b[0m \u001b[32m━━━━━━━━━━━━━━━━━━━━\u001b[0m\u001b[37m\u001b[0m \u001b[1m7s\u001b[0m 260us/step - loss: 0.4667 - val_loss: 3.2217\n",
      "Epoch 40/50\n",
      "\u001b[1m28054/28054\u001b[0m \u001b[32m━━━━━━━━━━━━━━━━━━━━\u001b[0m\u001b[37m\u001b[0m \u001b[1m7s\u001b[0m 260us/step - loss: 0.4667 - val_loss: 3.2217\n",
      "Epoch 41/50\n",
      "\u001b[1m28054/28054\u001b[0m \u001b[32m━━━━━━━━━━━━━━━━━━━━\u001b[0m\u001b[37m\u001b[0m \u001b[1m7s\u001b[0m 260us/step - loss: 0.4667 - val_loss: 3.2217\n",
      "Epoch 42/50\n",
      "\u001b[1m28054/28054\u001b[0m \u001b[32m━━━━━━━━━━━━━━━━━━━━\u001b[0m\u001b[37m\u001b[0m \u001b[1m7s\u001b[0m 261us/step - loss: 0.4667 - val_loss: 3.2217\n",
      "Epoch 43/50\n",
      "\u001b[1m28054/28054\u001b[0m \u001b[32m━━━━━━━━━━━━━━━━━━━━\u001b[0m\u001b[37m\u001b[0m \u001b[1m7s\u001b[0m 261us/step - loss: 0.4667 - val_loss: 3.2216\n",
      "Epoch 44/50\n",
      "\u001b[1m28054/28054\u001b[0m \u001b[32m━━━━━━━━━━━━━━━━━━━━\u001b[0m\u001b[37m\u001b[0m \u001b[1m7s\u001b[0m 260us/step - loss: 0.4667 - val_loss: 3.2216\n",
      "Epoch 45/50\n",
      "\u001b[1m28054/28054\u001b[0m \u001b[32m━━━━━━━━━━━━━━━━━━━━\u001b[0m\u001b[37m\u001b[0m \u001b[1m7s\u001b[0m 261us/step - loss: 0.4667 - val_loss: 3.2215\n",
      "Epoch 46/50\n",
      "\u001b[1m28054/28054\u001b[0m \u001b[32m━━━━━━━━━━━━━━━━━━━━\u001b[0m\u001b[37m\u001b[0m \u001b[1m7s\u001b[0m 262us/step - loss: 0.4667 - val_loss: 3.2216\n",
      "Epoch 47/50\n",
      "\u001b[1m28054/28054\u001b[0m \u001b[32m━━━━━━━━━━━━━━━━━━━━\u001b[0m\u001b[37m\u001b[0m \u001b[1m7s\u001b[0m 261us/step - loss: 0.4667 - val_loss: 3.2215\n",
      "Epoch 48/50\n",
      "\u001b[1m28054/28054\u001b[0m \u001b[32m━━━━━━━━━━━━━━━━━━━━\u001b[0m\u001b[37m\u001b[0m \u001b[1m7s\u001b[0m 261us/step - loss: 0.4667 - val_loss: 3.2215\n",
      "Epoch 49/50\n",
      "\u001b[1m28054/28054\u001b[0m \u001b[32m━━━━━━━━━━━━━━━━━━━━\u001b[0m\u001b[37m\u001b[0m \u001b[1m7s\u001b[0m 262us/step - loss: 0.4667 - val_loss: 3.2215\n",
      "Epoch 50/50\n",
      "\u001b[1m28054/28054\u001b[0m \u001b[32m━━━━━━━━━━━━━━━━━━━━\u001b[0m\u001b[37m\u001b[0m \u001b[1m7s\u001b[0m 262us/step - loss: 0.4667 - val_loss: 3.2215\n",
      "\u001b[1m2947/2947\u001b[0m \u001b[32m━━━━━━━━━━━━━━━━━━━━\u001b[0m\u001b[37m\u001b[0m \u001b[1m1s\u001b[0m 187us/step\n",
      "Mean Squared Error on test data: 3.221566469271621\n"
     ]
    },
    {
     "ename": "KeyError",
     "evalue": "'leak'",
     "output_type": "error",
     "traceback": [
      "\u001b[0;31m---------------------------------------------------------------------------\u001b[0m",
      "\u001b[0;31mKeyError\u001b[0m                                  Traceback (most recent call last)",
      "File \u001b[0;32m~/anaconda3/lib/python3.11/site-packages/pandas/core/indexes/base.py:3805\u001b[0m, in \u001b[0;36mIndex.get_loc\u001b[0;34m(self, key)\u001b[0m\n\u001b[1;32m   3804\u001b[0m \u001b[39mtry\u001b[39;00m:\n\u001b[0;32m-> 3805\u001b[0m     \u001b[39mreturn\u001b[39;00m \u001b[39mself\u001b[39m\u001b[39m.\u001b[39m_engine\u001b[39m.\u001b[39mget_loc(casted_key)\n\u001b[1;32m   3806\u001b[0m \u001b[39mexcept\u001b[39;00m \u001b[39mKeyError\u001b[39;00m \u001b[39mas\u001b[39;00m err:\n",
      "File \u001b[0;32mindex.pyx:167\u001b[0m, in \u001b[0;36mpandas._libs.index.IndexEngine.get_loc\u001b[0;34m()\u001b[0m\n",
      "File \u001b[0;32mindex.pyx:196\u001b[0m, in \u001b[0;36mpandas._libs.index.IndexEngine.get_loc\u001b[0;34m()\u001b[0m\n",
      "File \u001b[0;32mpandas/_libs/hashtable_class_helper.pxi:7081\u001b[0m, in \u001b[0;36mpandas._libs.hashtable.PyObjectHashTable.get_item\u001b[0;34m()\u001b[0m\n",
      "File \u001b[0;32mpandas/_libs/hashtable_class_helper.pxi:7089\u001b[0m, in \u001b[0;36mpandas._libs.hashtable.PyObjectHashTable.get_item\u001b[0;34m()\u001b[0m\n",
      "\u001b[0;31mKeyError\u001b[0m: 'leak'",
      "\nThe above exception was the direct cause of the following exception:\n",
      "\u001b[0;31mKeyError\u001b[0m                                  Traceback (most recent call last)",
      "\u001b[1;32m/Users/constantinwiederin/Documents/GitHub/AirbusFuelLeaks/models.ipynb Cell 8\u001b[0m line \u001b[0;36m3\n\u001b[1;32m     <a href='vscode-notebook-cell:/Users/constantinwiederin/Documents/GitHub/AirbusFuelLeaks/models.ipynb#X10sZmlsZQ%3D%3D?line=33'>34</a>\u001b[0m predicted_labels \u001b[39m=\u001b[39m (loss \u001b[39m>\u001b[39m threshold)\u001b[39m.\u001b[39mastype(\u001b[39mint\u001b[39m)\n\u001b[1;32m     <a href='vscode-notebook-cell:/Users/constantinwiederin/Documents/GitHub/AirbusFuelLeaks/models.ipynb#X10sZmlsZQ%3D%3D?line=35'>36</a>\u001b[0m \u001b[39m# True labels (assuming they are binary: 1 for anomaly, 0 for normal)\u001b[39;00m\n\u001b[0;32m---> <a href='vscode-notebook-cell:/Users/constantinwiederin/Documents/GitHub/AirbusFuelLeaks/models.ipynb#X10sZmlsZQ%3D%3D?line=36'>37</a>\u001b[0m true_labels \u001b[39m=\u001b[39m test_df[\u001b[39m'\u001b[39m\u001b[39mleak\u001b[39m\u001b[39m'\u001b[39m]\u001b[39m.\u001b[39mvalues\n\u001b[1;32m     <a href='vscode-notebook-cell:/Users/constantinwiederin/Documents/GitHub/AirbusFuelLeaks/models.ipynb#X10sZmlsZQ%3D%3D?line=38'>39</a>\u001b[0m \u001b[39m# Print the confusion matrix\u001b[39;00m\n\u001b[1;32m     <a href='vscode-notebook-cell:/Users/constantinwiederin/Documents/GitHub/AirbusFuelLeaks/models.ipynb#X10sZmlsZQ%3D%3D?line=39'>40</a>\u001b[0m cm \u001b[39m=\u001b[39m confusion_matrix(true_labels, predicted_labels)\n",
      "File \u001b[0;32m~/anaconda3/lib/python3.11/site-packages/pandas/core/frame.py:4102\u001b[0m, in \u001b[0;36mDataFrame.__getitem__\u001b[0;34m(self, key)\u001b[0m\n\u001b[1;32m   4100\u001b[0m \u001b[39mif\u001b[39;00m \u001b[39mself\u001b[39m\u001b[39m.\u001b[39mcolumns\u001b[39m.\u001b[39mnlevels \u001b[39m>\u001b[39m \u001b[39m1\u001b[39m:\n\u001b[1;32m   4101\u001b[0m     \u001b[39mreturn\u001b[39;00m \u001b[39mself\u001b[39m\u001b[39m.\u001b[39m_getitem_multilevel(key)\n\u001b[0;32m-> 4102\u001b[0m indexer \u001b[39m=\u001b[39m \u001b[39mself\u001b[39m\u001b[39m.\u001b[39mcolumns\u001b[39m.\u001b[39mget_loc(key)\n\u001b[1;32m   4103\u001b[0m \u001b[39mif\u001b[39;00m is_integer(indexer):\n\u001b[1;32m   4104\u001b[0m     indexer \u001b[39m=\u001b[39m [indexer]\n",
      "File \u001b[0;32m~/anaconda3/lib/python3.11/site-packages/pandas/core/indexes/base.py:3812\u001b[0m, in \u001b[0;36mIndex.get_loc\u001b[0;34m(self, key)\u001b[0m\n\u001b[1;32m   3807\u001b[0m     \u001b[39mif\u001b[39;00m \u001b[39misinstance\u001b[39m(casted_key, \u001b[39mslice\u001b[39m) \u001b[39mor\u001b[39;00m (\n\u001b[1;32m   3808\u001b[0m         \u001b[39misinstance\u001b[39m(casted_key, abc\u001b[39m.\u001b[39mIterable)\n\u001b[1;32m   3809\u001b[0m         \u001b[39mand\u001b[39;00m \u001b[39many\u001b[39m(\u001b[39misinstance\u001b[39m(x, \u001b[39mslice\u001b[39m) \u001b[39mfor\u001b[39;00m x \u001b[39min\u001b[39;00m casted_key)\n\u001b[1;32m   3810\u001b[0m     ):\n\u001b[1;32m   3811\u001b[0m         \u001b[39mraise\u001b[39;00m InvalidIndexError(key)\n\u001b[0;32m-> 3812\u001b[0m     \u001b[39mraise\u001b[39;00m \u001b[39mKeyError\u001b[39;00m(key) \u001b[39mfrom\u001b[39;00m \u001b[39merr\u001b[39;00m\n\u001b[1;32m   3813\u001b[0m \u001b[39mexcept\u001b[39;00m \u001b[39mTypeError\u001b[39;00m:\n\u001b[1;32m   3814\u001b[0m     \u001b[39m# If we have a listlike key, _check_indexing_error will raise\u001b[39;00m\n\u001b[1;32m   3815\u001b[0m     \u001b[39m#  InvalidIndexError. Otherwise we fall through and re-raise\u001b[39;00m\n\u001b[1;32m   3816\u001b[0m     \u001b[39m#  the TypeError.\u001b[39;00m\n\u001b[1;32m   3817\u001b[0m     \u001b[39mself\u001b[39m\u001b[39m.\u001b[39m_check_indexing_error(key)\n",
      "\u001b[0;31mKeyError\u001b[0m: 'leak'"
     ]
    }
   ],
   "source": [
    "# Use only the 'VALUE_FOB' column for training and testing\n",
    "train_x = scaler.fit_transform(train_df[['Real_FOB-predicted_FOB']])\n",
    "test_x = scaler.transform(test_df[['Real_FOB-predicted_FOB']])\n",
    "\n",
    "# Ensure the input dimension is set correctly\n",
    "input_dim = train_x.shape[1]\n",
    "\n",
    "# Build the autoencoder model\n",
    "encoding_dim = 12  # Example encoding dimension\n",
    "\n",
    "inputArray = Input(shape=(input_dim,))\n",
    "encoded = Dense(encoding_dim, activation='tanh')(inputArray)\n",
    "decoded = Dense(input_dim, activation='sigmoid')(encoded)\n",
    "\n",
    "autoencoder = Model(inputArray, decoded)\n",
    "autoencoder.compile(optimizer='adam', loss='mse')\n",
    "\n",
    "autoencoder.summary()\n",
    "\n",
    "# Train the autoencoder\n",
    "autoencoder.fit(train_x, train_x, epochs=50, batch_size=10, shuffle=False, validation_data=(test_x, test_x))\n",
    "\n",
    "# Evaluate the autoencoder on test data\n",
    "reconstructed_test = autoencoder.predict(test_x)\n",
    "loss = np.mean(np.square(test_x - reconstructed_test), axis=1)\n",
    "\n",
    "# Print some results\n",
    "print(f'Mean Squared Error on test data: {np.mean(loss)}')\n",
    "\n",
    "# Set a threshold for reconstruction error to identify anomalies\n",
    "threshold = np.percentile(loss, 70)  # for example, 75th percentile\n",
    "\n",
    "# Convert reconstruction errors to binary labels\n",
    "predicted_labels = (loss > threshold).astype(int)\n",
    "\n",
    "# True labels (assuming they are binary: 1 for anomaly, 0 for normal)\n",
    "true_labels = test_df['leak'].values\n",
    "\n",
    "# Print the confusion matrix\n",
    "cm = confusion_matrix(true_labels, predicted_labels)\n",
    "print(cm)"
   ]
  },
  {
   "cell_type": "code",
   "execution_count": null,
   "metadata": {},
   "outputs": [],
   "source": [
    "import tensorflow as tf\n",
    "from tensorflow.keras import layers\n",
    "\n",
    "class AnomalyDetector(tf.keras.Model):\n",
    "    def __init__(self):\n",
    "        super(AnomalyDetector, self).__init__()\n",
    "        self.encoder = tf.keras.Sequential([\n",
    "            layers.Dense(80, activation=\"relu\"),\n",
    "            layers.Dense(70, activation=\"relu\"),\n",
    "            layers.Dense(60, activation=\"relu\"),                                  \n",
    "            layers.Dense(50, activation=\"relu\")\n",
    "        ])\n",
    "        \n",
    "        self.decoder = tf.keras.Sequential([ \n",
    "            layers.Dense(50, activation=\"relu\"),\n",
    "            layers.Dense(60, activation=\"relu\"),\n",
    "            layers.Dense(70, activation=\"relu\"),\n",
    "            layers.Dense(80, activation=\"relu\"),\n",
    "            layers.Dense(10, activation=\"sigmoid\")\n",
    "        ])\n",
    "    \n",
    "    def call(self, x):\n",
    "        encoded = self.encoder(x)\n",
    "        decoded = self.decoder(encoded)\n",
    "        return decoded\n",
    "\n",
    "autoencoder = AnomalyDetector()"
   ]
  },
  {
   "cell_type": "code",
   "execution_count": null,
   "metadata": {},
   "outputs": [],
   "source": [
    "autoencoder.compile(optimizer=tf.keras.optimizers.Adam(learning_rate=1e-3), loss= 'mse')"
   ]
  },
  {
   "cell_type": "code",
   "execution_count": null,
   "metadata": {},
   "outputs": [],
   "source": [
    "history = autoencoder.fit(train_x, train_x, \n",
    "          epochs=300, \n",
    "          batch_size=100,\n",
    "          validation_data=(test_x, test_x),\n",
    "          shuffle=True)"
   ]
  },
  {
   "cell_type": "code",
   "execution_count": null,
   "metadata": {},
   "outputs": [],
   "source": [
    "test_x_predictions = autoencoder.predict(test_x)\n",
    "mse = np.mean(np.power(test_x - test_x_predictions, 2), axis=1)"
   ]
  },
  {
   "cell_type": "code",
   "execution_count": null,
   "metadata": {},
   "outputs": [],
   "source": [
    "#score my model\n",
    "test_x_predictions = autoencoder.predict(test_x)\n",
    "mse = np.mean(np.power(test_x - test_x_predictions, 2), axis=1)\n",
    "error_df = pd.DataFrame({'Reconstruction_error': mse,\n",
    "                        'True_class': test_df['leak']})\n",
    "\n",
    "error_df.describe()\n",
    "\n",
    "# Include 'Flight' column when creating error_df DataFrame\n",
    "error_df = pd.DataFrame({'Reconstruction_error': mse,\n",
    "                         'True_class': test_df['leak'],\n",
    "                         'Flight': test_df['Flight']})\n",
    "\n",
    "# Filter for predicted leakages\n",
    "predicted_leakages = error_df[error_df['True_class'] == 1]\n",
    "\n",
    "# Print the predicted leakages and the flight they belong to\n",
    "print(predicted_leakages)\n",
    "\n",
    "# Group by 'Flight' and count the number of predicted leakages for each flight\n",
    "predicted_leakages_count = predicted_leakages.groupby('Flight').size()\n",
    "\n",
    "# Print the result\n",
    "print(predicted_leakages_count)"
   ]
  },
  {
   "cell_type": "code",
   "execution_count": null,
   "metadata": {},
   "outputs": [],
   "source": [
    "#create confusion matrix\n",
    "from sklearn.metrics import confusion_matrix\n",
    "threshold_fixed = 0.6\n",
    "y_pred = [1 if e > threshold_fixed else 0 for e in error_df.Reconstruction_error.values]\n",
    "conf_matrix = confusion_matrix(error_df.True_class, y_pred)\n",
    "\n",
    "plt.figure(figsize=(12, 12))\n",
    "sns.heatmap(conf_matrix, xticklabels=['Normal', 'Anomaly'], yticklabels=['Normal', 'Anomaly'], annot=True, fmt=\"d\");\n",
    "plt.title('Confusion matrix')\n",
    "plt.ylabel('True class')\n",
    "plt.xlabel('Predicted class')\n",
    "plt.show()\n",
    "\n",
    "#Print the flights in which the anomalys was detected and how many were detected in those flights\n",
    "# Include 'Flight' column when creating anomalies DataFrame\n",
    "anomalies = error_df[error_df['True_class'] == 1][['Flight', 'True_class']]\n",
    "\n",
    "# Group by 'Flight' and count the number of anomalies for each flight\n",
    "anomalies_count = anomalies.groupby('Flight').size()\n",
    "\n",
    "# Print the result\n",
    "print(anomalies_count)\n",
    "\n",
    "#calculate the accuracy,recall,precision and f1 score\n",
    "from sklearn.metrics import accuracy_score, recall_score, precision_score, f1_score\n",
    "\n",
    "accuracy = accuracy_score(error_df.True_class, y_pred)\n",
    "recall = recall_score(error_df.True_class, y_pred)\n",
    "precision = precision_score(error_df.True_class, y_pred)\n",
    "f1 = f1_score(error_df.True_class, y_pred)\n",
    "\n",
    "print(f'Accuracy: {accuracy}')\n",
    "print(f'Recall: {recall}')\n",
    "print(f'Precision: {precision}')\n",
    "print(f'F1 Score: {f1}')\n",
    "\n",
    "\n",
    "#pirnt number of flights in which the anomaly was detected\n",
    "print(f'Number of flights in which the anomaly was detected: {len(anomalies_count)}')"
   ]
  },
  {
   "cell_type": "code",
   "execution_count": null,
   "metadata": {},
   "outputs": [],
   "source": [
    "#plot the flights with most anomalies from higher to lower\n",
    "anomalies_count.sort_values(ascending=False).plot(kind='bar', figsize=(15, 6))\n",
    "plt.title('Number of anomalies detected in each flight')\n",
    "plt.xlabel('Flight')\n",
    "plt.ylabel('Number of anomalies')\n",
    "plt.show()"
   ]
  },
  {
   "cell_type": "markdown",
   "metadata": {},
   "source": [
    "# Isolation forest"
   ]
  },
  {
   "cell_type": "code",
   "execution_count": null,
   "metadata": {},
   "outputs": [],
   "source": [
    "#running isolation forest\n",
    "from sklearn.ensemble import IsolationForest\n",
    "\n",
    "# Create an Isolation Forest object\n",
    "isolation_forest = IsolationForest(contamination=0.025)\n",
    "\n",
    "# Fit the model\n",
    "isolation_forest.fit(train_x)\n",
    "\n",
    "# Predict anomalies\n",
    "train_x_predictions = isolation_forest.predict(train_x)\n",
    "test_x_predictions = isolation_forest.predict(test_x)\n",
    "\n",
    "# Convert predictions to binary labels\n",
    "train_x_predictions = (train_x_predictions == -1).astype(int)\n",
    "test_x_predictions = (test_x_predictions == -1).astype(int)\n",
    "\n",
    "# Print the confusion matrix for training data\n",
    "cm_train = confusion_matrix(train_df['leak'], train_x_predictions)\n",
    "print(cm_train)\n",
    "\n",
    "# Print the confusion matrix for test data\n",
    "cm_test = confusion_matrix(test_df['leak'], test_x_predictions)\n",
    "print(cm_test)\n",
    "\n",
    "# Print the number of anomalies detected in each flight\n",
    "# Include 'Flight' column when creating anomalies DataFrame\n",
    "anomalies = error_df[error_df['True_class'] == 1][['Flight', 'True_class']]\n",
    "anomalies_count = anomalies.groupby('Flight').size()\n",
    "print(anomalies_count)\n",
    "\n",
    "#print precision, recall, accuracy and f1 score\n",
    "accuracy = accuracy_score(test_df['leak'], test_x_predictions)\n",
    "recall = recall_score(test_df['leak'], test_x_predictions)\n",
    "precision = precision_score(test_df['leak'], test_x_predictions)\n",
    "f1 = f1_score(test_df['leak'], test_x_predictions)\n",
    "\n",
    "print(f'Accuracy: {accuracy}')\n",
    "print(f'Recall: {recall}')\n",
    "print(f'Precision: {precision}')\n",
    "print(f'F1 Score: {f1}')"
   ]
  },
  {
   "cell_type": "markdown",
   "metadata": {},
   "source": [
    "# XGBoost"
   ]
  },
  {
   "cell_type": "code",
   "execution_count": null,
   "metadata": {},
   "outputs": [],
   "source": [
    "#xgboostdata = combined[['VALUE_FOB', 'predicted_FOB', 'Real_FOB-predicted_FOB', 'diff_FOB', 'diff_initial_FOB_fuel_used+FOB', 'fuel_used_per_minute_total_fuel_used_diff', 'total_fuel_used', 'flight_entry', 'leak','UTC_TIME']]"
   ]
  },
  {
   "cell_type": "code",
   "execution_count": 20,
   "metadata": {},
   "outputs": [],
   "source": [
    "xgboostdata = data"
   ]
  },
  {
   "cell_type": "code",
   "execution_count": 21,
   "metadata": {},
   "outputs": [],
   "source": [
    "#adding new features to xgboostdata that are rolling means of the column VALUE_FOB\n",
    "xgboostdata['VALUE_FOB_mean'] = xgboostdata['VALUE_FOB'].rolling(window=10).mean()\n",
    "xgboostdata['VALUE_FOB_mean'] = xgboostdata['VALUE_FOB_mean'].fillna(xgboostdata['VALUE_FOB_mean'].mean())\n",
    "xgboostdata['lagged'] = xgboostdata['VALUE_FOB'].shift(1)"
   ]
  },
  {
   "cell_type": "code",
   "execution_count": 22,
   "metadata": {},
   "outputs": [
    {
     "ename": "NameError",
     "evalue": "name 'train' is not defined",
     "output_type": "error",
     "traceback": [
      "\u001b[0;31m---------------------------------------------------------------------------\u001b[0m",
      "\u001b[0;31mNameError\u001b[0m                                 Traceback (most recent call last)",
      "\u001b[1;32m/Users/constantinwiederin/Documents/GitHub/AirbusFuelLeaks/models.ipynb Cell 23\u001b[0m line \u001b[0;36m8\n\u001b[1;32m      <a href='vscode-notebook-cell:/Users/constantinwiederin/Documents/GitHub/AirbusFuelLeaks/models.ipynb#X33sZmlsZQ%3D%3D?line=4'>5</a>\u001b[0m xgb \u001b[39m=\u001b[39m XGBClassifier()\n\u001b[1;32m      <a href='vscode-notebook-cell:/Users/constantinwiederin/Documents/GitHub/AirbusFuelLeaks/models.ipynb#X33sZmlsZQ%3D%3D?line=6'>7</a>\u001b[0m \u001b[39m# Fit the model\u001b[39;00m\n\u001b[0;32m----> <a href='vscode-notebook-cell:/Users/constantinwiederin/Documents/GitHub/AirbusFuelLeaks/models.ipynb#X33sZmlsZQ%3D%3D?line=7'>8</a>\u001b[0m xgb\u001b[39m.\u001b[39mfit(train, target_train)\n\u001b[1;32m     <a href='vscode-notebook-cell:/Users/constantinwiederin/Documents/GitHub/AirbusFuelLeaks/models.ipynb#X33sZmlsZQ%3D%3D?line=9'>10</a>\u001b[0m \u001b[39m# Predict anomalies\u001b[39;00m\n\u001b[1;32m     <a href='vscode-notebook-cell:/Users/constantinwiederin/Documents/GitHub/AirbusFuelLeaks/models.ipynb#X33sZmlsZQ%3D%3D?line=10'>11</a>\u001b[0m train_x_predictions \u001b[39m=\u001b[39m xgb\u001b[39m.\u001b[39mpredict(train)\n",
      "\u001b[0;31mNameError\u001b[0m: name 'train' is not defined"
     ]
    }
   ],
   "source": [
    "#using xgboost to detect anomalies\n",
    "from xgboost import XGBClassifier\n",
    "\n",
    "# Create an XGBoost classifier object\n",
    "xgb = XGBClassifier()\n",
    "\n",
    "# Fit the model\n",
    "xgb.fit(train_df, target_train)\n",
    "\n",
    "# Predict anomalies\n",
    "train_x_predictions = xgb.predict(train_df)\n",
    "test_x_predictions = xgb.predict(test_df)\n",
    "\n",
    "# Print the confusion matrix for training data\n",
    "cm_train = confusion_matrix(target_train, train_x_predictions)\n",
    "print(cm_train)\n",
    "\n",
    "# Print the confusion matrix for test data\n",
    "cm_test = confusion_matrix(target_test, test_x_predictions)\n",
    "print(cm_test)\n",
    "\n",
    "# Print the number of anomalies detected in each flight\n",
    "# Include 'Flight' column when creating anomalies DataFrame\n",
    "anomalies = error_df[error_df['True_class'] == 1][['Flight', 'True_class']]\n",
    "anomalies_count = anomalies.groupby('Flight').size()\n",
    "print(anomalies_count)\n",
    "\n",
    "#print precision, recall, accuracy and f1 score\n",
    "accuracy = accuracy_score(test_df['leak'], test_x_predictions)\n",
    "recall = recall_score(test_df['leak'], test_x_predictions)\n",
    "precision = precision_score(test_df['leak'], test_x_predictions)\n",
    "f1 = f1_score(test_df['leak'], test_x_predictions)\n",
    "\n",
    "#print feature importance\n",
    "feature_importances = xgb.feature_importances_\n",
    "features = train_df.columns\n",
    "feature_importances_df = pd.DataFrame({'Feature': features, 'Importance': feature_importances})\n",
    "feature_importances_df = feature_importances_df.sort_values(by='Importance', ascending=False)\n",
    "print(feature_importances_df)\n",
    "\n",
    "\n"
   ]
  },
  {
   "cell_type": "code",
   "execution_count": null,
   "metadata": {},
   "outputs": [],
   "source": [
    "#plot the flights with most anomalies from higher to lower\n",
    "anomalies_count.sort_values(ascending=False).plot(kind='bar', figsize=(15, 6))\n",
    "plt.title('Number of anomalies detected in each flight')\n",
    "plt.xlabel('Flight')\n",
    "plt.ylabel('Number of anomalies')\n",
    "plt.show()"
   ]
  },
  {
   "cell_type": "code",
   "execution_count": null,
   "metadata": {},
   "outputs": [],
   "source": [
    "from sklearn.model_selection import GridSearchCV\n",
    "from xgboost import XGBClassifier\n",
    "\n",
    "# Define the grid of hyperparameters\n",
    "param_grid = {\n",
    "    'n_estimators': [50, 100, 150, 200],\n",
    "    'max_depth': [2, 4, 6, 8],\n",
    "    'learning_rate': [0.01, 0.1, 0.2, 0.3],\n",
    "    'subsample': [0.5, 0.7, 0.9],\n",
    "    'colsample_bytree': [0.5, 0.7, 0.9],\n",
    "}\n",
    "\n",
    "# Create a XGBClassifier object\n",
    "xgb = XGBClassifier()\n",
    "\n",
    "# Create a GridSearchCV object\n",
    "grid_search = GridSearchCV(estimator=xgb, param_grid=param_grid, cv=3, scoring='accuracy', verbose=2, n_jobs=-1)\n",
    "\n",
    "# Fit the GridSearchCV object to the data\n",
    "grid_search.fit(train, target_train)\n",
    "\n",
    "# Print the best parameters\n",
    "print(grid_search.best_params_)\n",
    "\n",
    "# Print the best score\n",
    "print(grid_search.best_score_)\n",
    "\n",
    "# Predict anomalies\n",
    "train_x_predictions = grid_search.predict(train)\n",
    "test_x_predictions = grid_search.predict(test)\n",
    "\n",
    "# Print the confusion matrix for training data\n",
    "cm_train = confusion_matrix(target_train, train_x_predictions)\n",
    "print(cm_train)\n",
    "\n",
    "# Print the confusion matrix for test data\n",
    "cm_test = confusion_matrix(target_test, test_x_predictions)\n",
    "print(cm_test)\n",
    "\n",
    "# Print the number of anomalies detected in each flight\n",
    "# Include 'Flight' column when creating anomalies DataFrame\n",
    "anomalies = error_df[error_df['True_class'] == 1][['Flight', 'True_class']]\n",
    "anomalies_count = anomalies.groupby('Flight').size()\n",
    "print(anomalies_count)\n",
    "\n",
    "#print precision, recall, accuracy and f1 score\n",
    "accuracy = accuracy_score(test_df['leak'], test_x_predictions)\n",
    "recall = recall_score(test_df['leak'], test_x_predictions)\n",
    "precision = precision_score(test_df['leak'], test_x_predictions)\n",
    "f1 = f1_score(test_df['leak'], test_x_predictions)\n",
    "\n",
    "#print feature importance\n",
    "feature_importances = grid_search.best_estimator_.feature_importances_\n",
    "features = train.columns\n",
    "feature_importances_df = pd.DataFrame({'Feature': features, 'Importance': feature_importances})\n",
    "feature_importances_df = feature_importances_df.sort_values(by='Importance', ascending=False)\n",
    "print(feature_importances_df)\n"
   ]
  }
 ],
 "metadata": {
  "kernelspec": {
   "display_name": "base",
   "language": "python",
   "name": "python3"
  },
  "language_info": {
   "codemirror_mode": {
    "name": "ipython",
    "version": 3
   },
   "file_extension": ".py",
   "mimetype": "text/x-python",
   "name": "python",
   "nbconvert_exporter": "python",
   "pygments_lexer": "ipython3",
   "version": "3.11.4"
  }
 },
 "nbformat": 4,
 "nbformat_minor": 2
}
