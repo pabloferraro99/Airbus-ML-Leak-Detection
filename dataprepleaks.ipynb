{
 "cells": [
  {
   "cell_type": "markdown",
   "metadata": {},
   "source": [
    "# Importing necessary libraries"
   ]
  },
  {
   "cell_type": "code",
   "execution_count": 30,
   "metadata": {},
   "outputs": [],
   "source": [
    "import pandas as pd\n",
    "import numpy as np\n",
    "import plotly.express as px\n",
    "import random"
   ]
  },
  {
   "cell_type": "markdown",
   "metadata": {},
   "source": [
    "# Importing all the flight data"
   ]
  },
  {
   "cell_type": "code",
   "execution_count": 31,
   "metadata": {},
   "outputs": [],
   "source": [
    "file1 = pd.read_csv('data/msn_02_fuel_leak_signals_preprocessed.csv', sep=';')\n",
    "file2 = pd.read_csv('data/msn_10_fuel_leak_signals_preprocessed.csv', sep=';')\n",
    "file3 = pd.read_csv('data/msn_11_fuel_leak_signals_preprocessed.csv', sep=';')\n",
    "file4 = pd.read_csv('data/msn_12_fuel_leak_signals_preprocessed.csv', sep=';')\n",
    "file5 = pd.read_csv('data/msn_14_fuel_leak_signals_preprocessed.csv', sep=';')\n",
    "file6 = pd.read_csv('data/msn_29_fuel_leak_signals_preprocessed.csv', sep=';')\n",
    "file7 = pd.read_csv('data/msn_37_fuel_leak_signals_preprocessed.csv', sep=';')\n",
    "file8 = pd.read_csv('data/msn_53_fuel_leak_signals_preprocessed.csv', sep=';')\n"
   ]
  },
  {
   "cell_type": "markdown",
   "metadata": {},
   "source": [
    "# Creating 1 dataframe with all the data"
   ]
  },
  {
   "cell_type": "code",
   "execution_count": 32,
   "metadata": {},
   "outputs": [],
   "source": [
    "#combine all files into one file\n",
    "combined = pd.concat([file2, file3, file4, file5, file6, file7, file8])"
   ]
  },
  {
   "cell_type": "markdown",
   "metadata": {},
   "source": [
    "# Feature Engineering and Data Enrichment\n",
    "\n",
    "In this section, we perform feature engineering to create new variables that will help us extract more insightful information from our existing dataset. These new features are derived from the original variables and will be used to enhance our analysis and predictive modeling efforts. The following steps outline the creation of these new features:\n",
    "\n",
    "1. **Total Fuel Used Calculation:**\n",
    "   - Create a new column `total_fuel_used` as the sum of fuel used across all engines (`FUEL_USED_1`, `FUEL_USED_2`, `FUEL_USED_3`, `FUEL_USED_4`).\n",
    "\n",
    "2. **Fuel On Board in Tanks Calculation:**\n",
    "   - Create a new column `Fuel_On_board_tanks` by summing the fuel quantities in various tanks (`VALUE_FUEL_QTY_CT`, `VALUE_FUEL_QTY_FT1`, `VALUE_FUEL_QTY_FT2`, `VALUE_FUEL_QTY_FT3`, `VALUE_FUEL_QTY_FT4`, `VALUE_FUEL_QTY_LXT`, `VALUE_FUEL_QTY_RXT`).\n",
    "\n",
    "3. **Fuel Used vs. Fuel On Board:**\n",
    "   - Create a new column `FOB - total_fuel_used` to compare the initial fuel on board (`VALUE_FOB`) with the total fuel used.\n",
    "\n",
    "4. **Fuel Usage Per Minute Calculation:**\n",
    "   - Calculate the difference in `VALUE_FOB` and `total_fuel_used` between consecutive rows to get `fuel_used_per_minute_FOB_diff` and `fuel_used_per_minute_total_fuel_used_diff`.\n",
    "\n",
    "5. **Cumulative Fuel Used Calculation:**\n",
    "   - Compute the cumulative sum of `total_fuel_used` and store it in `cummalitive_fuel_used`.\n",
    "\n",
    "6. **Initial Fuel On Board:**\n",
    "   - Record the initial `VALUE_FOB` for each flight in `initial_FOB`.\n",
    "   - Calculate the initial fuel on board from the tanks for each flight and store it in `initial_FOB_calculated`.\n",
    "\n",
    "7. **Predicted Fuel On Board:**\n",
    "   - Create `fuel_used+FOB` by adding `total_fuel_used` to `VALUE_FOB`.\n",
    "   - Calculate the difference between `initial_FOB` and `fuel_used+FOB` and store it in `diff_initial_FOB_fuel_used+FOB`.\n",
    "   - Predict the fuel on board using the initial `VALUE_FOB` and `total_fuel_used`, storing the result in `predicted_FOB`.\n",
    "   - Compute the difference between `initial_FOB` and `initial_FOB_calculated` and store it in `diff_initial_FOB`.\n",
    "\n",
    "8. **Altitude and Fuel Differences:**\n",
    "   - Calculate the difference in altitude between consecutive rows and store it in `alititude_diff`.\n",
    "   - Calculate the difference in `VALUE_FOB` between consecutive rows and store it in `diff_FOB`.\n",
    "\n",
    "9. **Real vs. Predicted Fuel On Board:**\n",
    "   - Calculate the difference between the real `VALUE_FOB` and the `predicted_FOB` and store it in `Real_FOB-predicted_FOB`.\n",
    "\n",
    "These features will provide a comprehensive understanding of fuel usage patterns, discrepancies in fuel measurements, and other crucial insights for further analysis.\n"
   ]
  },
  {
   "cell_type": "code",
   "execution_count": 38,
   "metadata": {},
   "outputs": [],
   "source": [
    "# Create a new column called total_fuel_used which is the sum of FUEL_USED_1, FUEL_USED_2, FUEL_USED_3, and FUEL_USED_4\n",
    "combined['total_fuel_used'] = combined['FUEL_USED_1'] + combined['FUEL_USED_2'] + combined['FUEL_USED_3'] + combined['FUEL_USED_4']\n",
    "\n",
    "# Create a new column called Fuel_On_board_tanks which is the sum of various fuel quantity measurements from different tanks\n",
    "combined['Fuel_On_board_tanks'] = (combined['VALUE_FUEL_QTY_CT'] + combined['VALUE_FUEL_QTY_FT1'] + combined['VALUE_FUEL_QTY_FT2'] +\n",
    "                                   combined['VALUE_FUEL_QTY_FT3'] + combined['VALUE_FUEL_QTY_FT4'] + combined['VALUE_FUEL_QTY_LXT'] + \n",
    "                                   combined['VALUE_FUEL_QTY_RXT'])\n",
    "\n",
    "# Create a new column to calculate the difference between VALUE_FOB and total_fuel_used\n",
    "combined['FOB - total_fuel_used'] = combined['VALUE_FOB'] - combined['total_fuel_used']\n",
    "\n",
    "# Calculate the difference in VALUE_FOB between consecutive rows and store it in a new column fuel_used_per_minute_FOB_diff\n",
    "combined['fuel_used_per_minute_FOB_diff'] = combined['VALUE_FOB'].diff()\n",
    "\n",
    "# Calculate the difference in total_fuel_used between consecutive rows and store it in a new column fuel_used_per_minute_total_fuel_used_diff\n",
    "combined['fuel_used_per_minute_total_fuel_used_diff'] = combined['total_fuel_used'].diff()\n",
    "\n",
    "# Calculate the cumulative sum of total_fuel_used and store it in a new column cummalitive_fuel_used\n",
    "combined['cummalitive_fuel_used'] = combined['total_fuel_used'].cumsum()\n",
    "\n",
    "# Record the initial VALUE_FOB for each flight and store it in a new column initial_FOB\n",
    "combined['initial_FOB'] = combined.groupby('Flight')['VALUE_FOB'].transform('first')\n",
    "\n",
    "# Calculate the initial fuel on board from the tanks for each flight and store it in a new column initial_FOB_calculated\n",
    "combined['initial_FOB_calculated'] = combined.groupby('Flight')['Fuel_On_board_tanks'].transform('first')\n",
    "\n",
    "# Create a new column fuel_used+FOB by adding total_fuel_used to VALUE_FOB\n",
    "combined['fuel_used+FOB'] = combined['total_fuel_used'] + combined['VALUE_FOB']\n",
    "\n",
    "# Calculate the difference between initial_FOB and fuel_used+FOB and store it in a new column diff_initial_FOB_fuel_used+FOB\n",
    "combined['diff_initial_FOB_fuel_used+FOB'] = combined['initial_FOB'] - combined['fuel_used+FOB']\n",
    "\n",
    "# Predict the fuel on board by subtracting total_fuel_used from initial_FOB and store it in a new column predicted_FOB\n",
    "combined['predicted_FOB'] = combined['initial_FOB'] - combined['total_fuel_used']\n",
    "\n",
    "# Calculate the difference between initial_FOB and initial_FOB_calculated and store it in a new column diff_initial_FOB\n",
    "combined['diff_initial_FOB'] = combined['initial_FOB'] - combined['initial_FOB_calculated']\n",
    "\n",
    "# Calculate the difference in altitude between consecutive rows and store it in a new column alititude_diff\n",
    "combined['alititude_diff'] = combined['FW_GEO_ALTITUDE'].diff()\n",
    "\n",
    "# Calculate the difference in VALUE_FOB between consecutive rows and store it in a new column diff_FOB\n",
    "combined['diff_FOB'] = combined['VALUE_FOB'].diff()\n",
    "\n",
    "# Calculate the difference between VALUE_FOB and predicted_FOB and store it in a new column Real_FOB-predicted_FOB\n",
    "combined['Real_FOB-predicted_FOB'] = combined['VALUE_FOB'] - combined['predicted_FOB']"
   ]
  },
  {
   "cell_type": "markdown",
   "metadata": {},
   "source": [
    "# Handling Missing Values\n",
    "\n",
    "In our dataset, we encountered a significant number of null values. After careful consideration, we decided to drop these null values rather than impute them. The reason for this decision is that imputing the missing values could lead to information loss and potentially introduce biases or inaccuracies in our analysis. By removing the null values, we ensure that our dataset remains robust and reliable for subsequent analysis and modeling.\n",
    "\n",
    "Further details on this decision and its implications are explained in our report."
   ]
  },
  {
   "cell_type": "code",
   "execution_count": 34,
   "metadata": {},
   "outputs": [],
   "source": [
    "combined.dropna(inplace=True)"
   ]
  },
  {
   "cell_type": "markdown",
   "metadata": {},
   "source": [
    "# Filtering Data by Flight Phase\n",
    "\n",
    "For our analysis, we decided to retain only the data where the flight phase is 8. The rationale behind this decision is that during flight phase 8, the fuel amount data is most stable. This is because the engine consumption is at its most stable and the altitude change is minimal. By focusing on this flight phase, we can ensure the accuracy and reliability of our fuel consumption analysis.\n",
    "\n",
    "Further details on this decision and its implications are explained in our report.\n"
   ]
  },
  {
   "cell_type": "code",
   "execution_count": 35,
   "metadata": {},
   "outputs": [],
   "source": [
    "combined = combined[combined['FLIGHT_PHASE_COUNT'] == 8]"
   ]
  },
  {
   "cell_type": "markdown",
   "metadata": {},
   "source": [
    "# Checking Remaining Unique Flights\n",
    "\n",
    "After filtering the dataset to retain only the data where the flight phase is 8, we want to verify the number of unique flights that remain. Originally, our dataset included 2229 flights, including test flights. By focusing on the stable flight phase 8, we ensure the quality of our data. Despite this filtering, we still have a substantial amount of data, with 479 unique flights remaining for our analysis.\n",
    "\n",
    "Further details on this decision and its implications are explained in our report."
   ]
  },
  {
   "cell_type": "code",
   "execution_count": 36,
   "metadata": {},
   "outputs": [
    {
     "data": {
      "text/plain": [
       "479"
      ]
     },
     "execution_count": 36,
     "metadata": {},
     "output_type": "execute_result"
    }
   ],
   "source": [
    "combined['Flight'].nunique()"
   ]
  },
  {
   "cell_type": "markdown",
   "metadata": {},
   "source": [
    "# Simulating Fuel Leakage in Flights\n",
    "\n",
    "In this section, we simulate fuel leakage in a subset of flights to understand how it impacts fuel metrics. The following steps outline the process:\n",
    "\n",
    "1. **Copy the Dataset:**\n",
    "   - Make a copy of the preprocessed dataset to ensure the original data remains unchanged.\n",
    "\n",
    "2. **Check for Required Column:**\n",
    "   - Ensure the dataset contains the 'VALUE_FOB' column, which is essential for the simulation. If not present, raise an error.\n",
    "\n",
    "3. **Define Leakage Simulation Function:**\n",
    "   - Implement a function `simulate_fake_leakage` to simulate a fuel leak starting mid-flight. The function calculates the fuel loss over time and adjusts the `VALUE_FOB` accordingly to create a new column `FAKE_LEAKAGE`.\n",
    "\n",
    "4. **Randomly Select Flights:**\n",
    "   - Select 100 random flights from the dataset to apply the fake leakage simulation. A random seed is set for reproducibility.\n",
    "\n",
    "5. **Apply Leakage Simulation:**\n",
    "   - For each selected flight, determine a random starting point mid-flight to begin the leak. Apply the leakage simulation and update the `FAKE_LEAKAGE` column. Additionally, append an 'L' to the flight name to indicate that a leak has been simulated.\n",
    "\n",
    "6. **Print Information:**\n",
    "   - Print the flight numbers where the fake leakage has been implemented for verification.\n",
    "\n",
    "7. **Export Modified Dataset:**\n",
    "   - Save the modified dataset, which includes the simulated leakage, to a CSV file named `combined_leaks.csv`.\n",
    "\n",
    "8. **Plot Fuel Usage Trends:**\n",
    "   - Select one of the flights with simulated leakage at random. Plot the trend of fuel usage (`VALUE_FOB` and `FAKE_LEAKAGE`) over time to visualize the impact of the simulated leak.\n",
    "\n",
    "Further details on the methodology and its implications are explained in our report.\n"
   ]
  },
  {
   "cell_type": "code",
   "execution_count": 37,
   "metadata": {},
   "outputs": [
    {
     "name": "stderr",
     "output_type": "stream",
     "text": [
      "/var/folders/6g/x5lm6rt15m9bd1llv55ld0_h0000gn/T/ipykernel_7530/1640251842.py:28: FutureWarning:\n",
      "\n",
      "Setting an item of incompatible dtype is deprecated and will raise an error in a future version of pandas. Value '['389.0L' '389.0L' '389.0L' '389.0L' '389.0L' '389.0L' '389.0L' '389.0L'\n",
      " '389.0L' '389.0L' '389.0L' '389.0L' '389.0L' '389.0L' '389.0L' '389.0L'\n",
      " '389.0L' '389.0L' '389.0L' '389.0L' '389.0L' '389.0L' '389.0L' '389.0L'\n",
      " '389.0L' '389.0L' '389.0L' '389.0L' '389.0L' '389.0L' '389.0L' '389.0L'\n",
      " '389.0L' '389.0L' '389.0L' '389.0L' '389.0L' '389.0L' '389.0L' '389.0L'\n",
      " '389.0L' '389.0L' '389.0L' '389.0L' '389.0L' '389.0L' '389.0L' '389.0L'\n",
      " '389.0L' '389.0L' '389.0L' '389.0L' '389.0L' '389.0L' '389.0L' '389.0L'\n",
      " '389.0L' '389.0L' '389.0L' '389.0L' '389.0L' '389.0L' '389.0L' '389.0L'\n",
      " '389.0L' '389.0L' '389.0L' '389.0L' '389.0L' '389.0L' '389.0L' '389.0L'\n",
      " '389.0L' '389.0L' '389.0L' '389.0L' '389.0L' '389.0L' '389.0L' '389.0L'\n",
      " '389.0L' '389.0L' '389.0L' '389.0L' '389.0L' '389.0L' '389.0L' '389.0L'\n",
      " '389.0L' '389.0L' '389.0L' '389.0L' '389.0L' '389.0L' '389.0L' '389.0L'\n",
      " '389.0L' '389.0L' '389.0L' '389.0L' '389.0L' '389.0L' '389.0L' '389.0L'\n",
      " '389.0L' '389.0L' '389.0L' '389.0L' '389.0L' '389.0L' '389.0L' '389.0L'\n",
      " '389.0L' '389.0L' '389.0L' '389.0L' '389.0L' '389.0L' '389.0L' '389.0L'\n",
      " '389.0L' '389.0L' '389.0L' '389.0L' '389.0L' '389.0L' '389.0L' '389.0L'\n",
      " '389.0L' '389.0L' '389.0L' '389.0L' '389.0L' '389.0L' '389.0L' '389.0L'\n",
      " '389.0L' '389.0L' '389.0L' '389.0L' '389.0L' '389.0L' '389.0L' '389.0L'\n",
      " '389.0L' '389.0L' '389.0L' '389.0L' '389.0L' '389.0L' '389.0L' '389.0L'\n",
      " '389.0L' '389.0L' '389.0L' '389.0L' '389.0L' '389.0L' '389.0L' '389.0L'\n",
      " '389.0L' '389.0L' '389.0L' '389.0L' '389.0L' '389.0L' '389.0L' '389.0L'\n",
      " '389.0L' '389.0L' '389.0L' '389.0L' '389.0L' '389.0L' '389.0L' '389.0L'\n",
      " '389.0L' '389.0L' '389.0L' '389.0L' '389.0L' '389.0L' '389.0L' '389.0L'\n",
      " '389.0L' '389.0L' '389.0L' '389.0L' '389.0L' '389.0L' '389.0L' '389.0L'\n",
      " '389.0L' '389.0L' '389.0L' '389.0L' '389.0L' '389.0L' '389.0L' '389.0L'\n",
      " '389.0L' '389.0L' '389.0L' '389.0L' '389.0L' '389.0L' '389.0L' '389.0L'\n",
      " '389.0L' '389.0L' '389.0L' '389.0L' '389.0L' '389.0L' '389.0L' '389.0L'\n",
      " '389.0L' '389.0L' '389.0L' '389.0L' '389.0L' '389.0L' '389.0L' '389.0L'\n",
      " '389.0L' '389.0L' '389.0L' '389.0L' '389.0L' '389.0L' '389.0L' '389.0L'\n",
      " '389.0L' '389.0L' '389.0L' '389.0L' '389.0L' '389.0L' '389.0L' '389.0L'\n",
      " '389.0L' '389.0L' '389.0L' '389.0L' '389.0L' '389.0L' '389.0L' '389.0L'\n",
      " '389.0L' '389.0L' '389.0L' '389.0L' '389.0L' '389.0L' '389.0L' '389.0L'\n",
      " '389.0L' '389.0L' '389.0L' '389.0L' '389.0L' '389.0L' '389.0L' '389.0L'\n",
      " '389.0L' '389.0L' '389.0L' '389.0L' '389.0L' '389.0L' '389.0L' '389.0L'\n",
      " '389.0L' '389.0L' '389.0L' '389.0L' '389.0L' '389.0L' '389.0L' '389.0L'\n",
      " '389.0L' '389.0L' '389.0L' '389.0L' '389.0L' '389.0L' '389.0L' '389.0L'\n",
      " '389.0L' '389.0L' '389.0L' '389.0L' '389.0L' '389.0L' '389.0L' '389.0L'\n",
      " '389.0L' '389.0L' '389.0L' '389.0L' '389.0L' '389.0L' '389.0L' '389.0L'\n",
      " '389.0L' '389.0L' '389.0L' '389.0L' '389.0L' '389.0L' '389.0L' '389.0L'\n",
      " '389.0L' '389.0L' '389.0L' '389.0L' '389.0L' '389.0L' '389.0L' '389.0L'\n",
      " '389.0L' '389.0L' '389.0L' '389.0L' '389.0L' '389.0L' '389.0L' '389.0L'\n",
      " '389.0L' '389.0L' '389.0L' '389.0L' '389.0L' '389.0L' '389.0L' '389.0L'\n",
      " '389.0L' '389.0L' '389.0L' '389.0L' '389.0L' '389.0L' '389.0L' '389.0L'\n",
      " '389.0L' '389.0L' '389.0L' '389.0L' '389.0L' '389.0L' '389.0L' '389.0L'\n",
      " '389.0L' '389.0L' '389.0L' '389.0L' '389.0L' '389.0L' '389.0L' '389.0L'\n",
      " '389.0L' '389.0L' '389.0L' '389.0L' '389.0L' '389.0L' '389.0L' '389.0L'\n",
      " '389.0L' '389.0L' '389.0L' '389.0L' '389.0L' '389.0L' '389.0L' '389.0L'\n",
      " '389.0L' '389.0L' '389.0L' '389.0L' '389.0L' '389.0L' '389.0L' '389.0L'\n",
      " '389.0L' '389.0L' '389.0L' '389.0L' '389.0L' '389.0L' '389.0L' '389.0L'\n",
      " '389.0L' '389.0L' '389.0L' '389.0L' '389.0L' '389.0L' '389.0L' '389.0L'\n",
      " '389.0L' '389.0L' '389.0L' '389.0L' '389.0L' '389.0L' '389.0L' '389.0L'\n",
      " '389.0L' '389.0L' '389.0L' '389.0L' '389.0L' '389.0L' '389.0L' '389.0L'\n",
      " '389.0L' '389.0L' '389.0L' '389.0L' '389.0L' '389.0L' '389.0L' '389.0L'\n",
      " '389.0L' '389.0L' '389.0L' '389.0L' '389.0L' '389.0L' '389.0L' '389.0L'\n",
      " '389.0L' '389.0L' '389.0L' '389.0L' '389.0L' '389.0L' '389.0L' '389.0L'\n",
      " '389.0L' '389.0L' '389.0L' '389.0L' '389.0L' '389.0L' '389.0L' '389.0L'\n",
      " '389.0L' '389.0L' '389.0L' '389.0L' '389.0L' '389.0L' '389.0L' '389.0L'\n",
      " '389.0L' '389.0L' '389.0L' '389.0L' '389.0L' '389.0L' '389.0L' '389.0L'\n",
      " '389.0L' '389.0L' '389.0L' '389.0L' '389.0L' '389.0L' '389.0L' '389.0L'\n",
      " '389.0L' '389.0L' '389.0L' '389.0L' '389.0L' '389.0L' '389.0L' '389.0L'\n",
      " '389.0L' '389.0L' '389.0L' '389.0L' '389.0L' '389.0L' '389.0L' '389.0L'\n",
      " '389.0L' '389.0L' '389.0L' '389.0L' '389.0L' '389.0L' '389.0L' '389.0L'\n",
      " '389.0L' '389.0L' '389.0L' '389.0L' '389.0L' '389.0L' '389.0L' '389.0L'\n",
      " '389.0L' '389.0L' '389.0L' '389.0L' '389.0L' '389.0L' '389.0L' '389.0L'\n",
      " '389.0L' '389.0L' '389.0L' '389.0L' '389.0L' '389.0L' '389.0L' '389.0L'\n",
      " '389.0L' '389.0L' '389.0L']' has dtype incompatible with float64, please explicitly cast to a compatible dtype first.\n",
      "\n"
     ]
    },
    {
     "name": "stdout",
     "output_type": "stream",
     "text": [
      "Fake leakage implemented in flight: 389.0 starting from mid-flight.\n",
      "Fake leakage implemented in flight: 139.0 starting from mid-flight.\n",
      "Fake leakage implemented in flight: 1995.0 starting from mid-flight.\n",
      "Fake leakage implemented in flight: 1882.0 starting from mid-flight.\n",
      "Fake leakage implemented in flight: 166.0 starting from mid-flight.\n",
      "Fake leakage implemented in flight: 217.0 starting from mid-flight.\n",
      "Fake leakage implemented in flight: 109.0 starting from mid-flight.\n",
      "Fake leakage implemented in flight: 363.0 starting from mid-flight.\n",
      "Fake leakage implemented in flight: 28.0 starting from mid-flight.\n",
      "Fake leakage implemented in flight: 1798.0 starting from mid-flight.\n",
      "Fake leakage implemented in flight: 2135.0 starting from mid-flight.\n",
      "Fake leakage implemented in flight: 256.0 starting from mid-flight.\n",
      "Fake leakage implemented in flight: 421.0 starting from mid-flight.\n",
      "Fake leakage implemented in flight: 67.0 starting from mid-flight.\n",
      "Fake leakage implemented in flight: 104.0 starting from mid-flight.\n",
      "Fake leakage implemented in flight: 376.0 starting from mid-flight.\n",
      "Fake leakage implemented in flight: 58.0 starting from mid-flight.\n",
      "Fake leakage implemented in flight: 39.0 starting from mid-flight.\n",
      "Fake leakage implemented in flight: 161.0 starting from mid-flight.\n",
      "Fake leakage implemented in flight: 446.0 starting from mid-flight.\n",
      "Fake leakage implemented in flight: 257.0 starting from mid-flight.\n",
      "Fake leakage implemented in flight: 141.0 starting from mid-flight.\n",
      "Fake leakage implemented in flight: 254.0 starting from mid-flight.\n",
      "Fake leakage implemented in flight: 2012.0 starting from mid-flight.\n",
      "Fake leakage implemented in flight: 464.0 starting from mid-flight.\n",
      "Fake leakage implemented in flight: 988.0 starting from mid-flight.\n",
      "Fake leakage implemented in flight: 115.0 starting from mid-flight.\n",
      "Fake leakage implemented in flight: 1808.0 starting from mid-flight.\n",
      "Fake leakage implemented in flight: 2088.0 starting from mid-flight.\n",
      "Fake leakage implemented in flight: 303.0 starting from mid-flight.\n",
      "Fake leakage implemented in flight: 126.0 starting from mid-flight.\n",
      "Fake leakage implemented in flight: 594.0 starting from mid-flight.\n",
      "Fake leakage implemented in flight: 1899.0 starting from mid-flight.\n",
      "Fake leakage implemented in flight: 386.0 starting from mid-flight.\n",
      "Fake leakage implemented in flight: 536.0 starting from mid-flight.\n",
      "Fake leakage implemented in flight: 400.0 starting from mid-flight.\n",
      "Fake leakage implemented in flight: 299.0 starting from mid-flight.\n",
      "Fake leakage implemented in flight: 1827.0 starting from mid-flight.\n",
      "Fake leakage implemented in flight: 321.0 starting from mid-flight.\n",
      "Fake leakage implemented in flight: 405.0 starting from mid-flight.\n",
      "Fake leakage implemented in flight: 367.0 starting from mid-flight.\n",
      "Fake leakage implemented in flight: 1916.0 starting from mid-flight.\n",
      "Fake leakage implemented in flight: 428.0 starting from mid-flight.\n",
      "Fake leakage implemented in flight: 355.0 starting from mid-flight.\n",
      "Fake leakage implemented in flight: 323.0 starting from mid-flight.\n",
      "Fake leakage implemented in flight: 450.0 starting from mid-flight.\n",
      "Fake leakage implemented in flight: 151.0 starting from mid-flight.\n",
      "Fake leakage implemented in flight: 351.0 starting from mid-flight.\n",
      "Fake leakage implemented in flight: 17.0 starting from mid-flight.\n",
      "Fake leakage implemented in flight: 179.0 starting from mid-flight.\n",
      "Fake leakage implemented in flight: 142.0 starting from mid-flight.\n",
      "Fake leakage implemented in flight: 114.0 starting from mid-flight.\n",
      "Fake leakage implemented in flight: 368.0 starting from mid-flight.\n",
      "Fake leakage implemented in flight: 331.0 starting from mid-flight.\n",
      "Fake leakage implemented in flight: 330.0 starting from mid-flight.\n",
      "Fake leakage implemented in flight: 472.0 starting from mid-flight.\n",
      "Fake leakage implemented in flight: 463.0 starting from mid-flight.\n",
      "Fake leakage implemented in flight: 143.0 starting from mid-flight.\n",
      "Fake leakage implemented in flight: 124.0 starting from mid-flight.\n",
      "Fake leakage implemented in flight: 190.0 starting from mid-flight.\n",
      "Fake leakage implemented in flight: 2086.0 starting from mid-flight.\n",
      "Fake leakage implemented in flight: 2193.0 starting from mid-flight.\n",
      "Fake leakage implemented in flight: 324.0 starting from mid-flight.\n",
      "Fake leakage implemented in flight: 371.0 starting from mid-flight.\n",
      "Fake leakage implemented in flight: 2205.0 starting from mid-flight.\n",
      "Fake leakage implemented in flight: 404.0 starting from mid-flight.\n",
      "Fake leakage implemented in flight: 424.0 starting from mid-flight.\n",
      "Fake leakage implemented in flight: 307.0 starting from mid-flight.\n",
      "Fake leakage implemented in flight: 569.0 starting from mid-flight.\n",
      "Fake leakage implemented in flight: 64.0 starting from mid-flight.\n",
      "Fake leakage implemented in flight: 306.0 starting from mid-flight.\n",
      "Fake leakage implemented in flight: 302.0 starting from mid-flight.\n",
      "Fake leakage implemented in flight: 441.0 starting from mid-flight.\n",
      "Fake leakage implemented in flight: 407.0 starting from mid-flight.\n",
      "Fake leakage implemented in flight: 171.0 starting from mid-flight.\n",
      "Fake leakage implemented in flight: 361.0 starting from mid-flight.\n",
      "Fake leakage implemented in flight: 40.0 starting from mid-flight.\n",
      "Fake leakage implemented in flight: 1821.0 starting from mid-flight.\n",
      "Fake leakage implemented in flight: 399.0 starting from mid-flight.\n",
      "Fake leakage implemented in flight: 291.0 starting from mid-flight.\n",
      "Fake leakage implemented in flight: 1828.0 starting from mid-flight.\n",
      "Fake leakage implemented in flight: 122.0 starting from mid-flight.\n",
      "Fake leakage implemented in flight: 96.0 starting from mid-flight.\n",
      "Fake leakage implemented in flight: 1998.0 starting from mid-flight.\n",
      "Fake leakage implemented in flight: 572.0 starting from mid-flight.\n",
      "Fake leakage implemented in flight: 496.0 starting from mid-flight.\n",
      "Fake leakage implemented in flight: 137.0 starting from mid-flight.\n",
      "Fake leakage implemented in flight: 312.0 starting from mid-flight.\n",
      "Fake leakage implemented in flight: 294.0 starting from mid-flight.\n",
      "Fake leakage implemented in flight: 482.0 starting from mid-flight.\n",
      "Fake leakage implemented in flight: 1873.0 starting from mid-flight.\n",
      "Fake leakage implemented in flight: 2196.0 starting from mid-flight.\n",
      "Fake leakage implemented in flight: 350.0 starting from mid-flight.\n",
      "Fake leakage implemented in flight: 81.0 starting from mid-flight.\n",
      "Fake leakage implemented in flight: 1933.0 starting from mid-flight.\n",
      "Fake leakage implemented in flight: 2087.0 starting from mid-flight.\n",
      "Fake leakage implemented in flight: 475.0 starting from mid-flight.\n",
      "Fake leakage implemented in flight: 344.0 starting from mid-flight.\n",
      "Fake leakage implemented in flight: 567.0 starting from mid-flight.\n",
      "Fake leakage implemented in flight: 0.0 starting from mid-flight.\n"
     ]
    },
    {
     "data": {
      "application/vnd.plotly.v1+json": {
       "config": {
        "plotlyServerURL": "https://plot.ly"
       },
       "data": [
        {
         "hovertemplate": "variable=VALUE_FOB<br>Time=%{x}<br>Fuel (kg)=%{y}<extra></extra>",
         "legendgroup": "VALUE_FOB",
         "line": {
          "color": "#636efa",
          "dash": "solid"
         },
         "marker": {
          "symbol": "circle"
         },
         "mode": "lines",
         "name": "VALUE_FOB",
         "orientation": "v",
         "showlegend": true,
         "type": "scatter",
         "x": [
          "2017-10-22 09:40:21",
          "2017-10-22 09:40:22",
          "2017-10-22 09:40:23",
          "2017-10-22 09:40:24",
          "2017-10-22 09:40:25",
          "2017-10-22 09:40:26",
          "2017-10-22 09:40:27",
          "2017-10-22 09:40:28",
          "2017-10-22 09:40:29",
          "2017-10-22 09:40:30",
          "2017-10-22 09:40:31",
          "2017-10-22 09:40:32",
          "2017-10-22 09:40:33",
          "2017-10-22 09:40:34",
          "2017-10-22 09:40:35",
          "2017-10-22 09:40:36",
          "2017-10-22 09:40:37",
          "2017-10-22 09:40:38",
          "2017-10-22 09:40:39",
          "2017-10-22 09:40:40",
          "2017-10-22 09:40:41",
          "2017-10-22 09:40:42",
          "2017-10-22 09:40:43",
          "2017-10-22 09:40:44",
          "2017-10-22 09:40:45",
          "2017-10-22 09:40:46",
          "2017-10-22 09:40:47",
          "2017-10-22 09:40:48",
          "2017-10-22 09:40:49",
          "2017-10-22 09:40:50",
          "2017-10-22 09:40:51",
          "2017-10-22 09:40:52",
          "2017-10-22 09:40:53",
          "2017-10-22 09:40:54",
          "2017-10-22 09:40:55",
          "2017-10-22 09:40:56",
          "2017-10-22 09:40:57",
          "2017-10-22 09:40:58",
          "2017-10-22 09:40:59",
          "2017-10-22 09:41:00",
          "2017-10-22 09:41:01",
          "2017-10-22 09:41:02",
          "2017-10-22 09:41:03",
          "2017-10-22 09:41:04",
          "2017-10-22 09:41:05",
          "2017-10-22 09:41:06",
          "2017-10-22 09:41:07",
          "2017-10-22 09:41:08",
          "2017-10-22 09:41:09",
          "2017-10-22 09:41:10",
          "2017-10-22 09:41:11",
          "2017-10-22 09:41:12",
          "2017-10-22 09:41:13",
          "2017-10-22 09:41:14",
          "2017-10-22 09:41:15",
          "2017-10-22 09:41:16",
          "2017-10-22 09:41:17",
          "2017-10-22 09:41:18",
          "2017-10-22 09:41:19",
          "2017-10-22 09:41:20",
          "2017-10-22 09:41:21",
          "2017-10-22 09:41:22",
          "2017-10-22 09:41:23",
          "2017-10-22 09:41:24",
          "2017-10-22 09:41:25",
          "2017-10-22 09:41:26",
          "2017-10-22 09:41:27",
          "2017-10-22 09:41:28",
          "2017-10-22 09:41:29",
          "2017-10-22 09:41:30",
          "2017-10-22 09:41:31",
          "2017-10-22 09:41:32",
          "2017-10-22 09:41:33",
          "2017-10-22 09:41:34",
          "2017-10-22 09:41:35",
          "2017-10-22 09:41:36",
          "2017-10-22 09:41:37",
          "2017-10-22 09:41:38",
          "2017-10-22 09:41:39",
          "2017-10-22 09:41:40",
          "2017-10-22 09:41:41",
          "2017-10-22 09:41:42",
          "2017-10-22 09:41:43",
          "2017-10-22 09:41:44",
          "2017-10-22 09:41:45",
          "2017-10-22 09:41:46",
          "2017-10-22 09:41:47",
          "2017-10-22 09:41:48",
          "2017-10-22 09:41:49",
          "2017-10-22 09:41:50",
          "2017-10-22 09:41:51",
          "2017-10-22 09:41:52",
          "2017-10-22 09:41:53",
          "2017-10-22 09:41:54",
          "2017-10-22 09:41:55",
          "2017-10-22 09:41:56",
          "2017-10-22 09:41:57",
          "2017-10-22 09:41:58",
          "2017-10-22 09:41:59",
          "2017-10-22 09:42:00",
          "2017-10-22 09:42:01",
          "2017-10-22 09:42:02",
          "2017-10-22 09:42:03",
          "2017-10-22 09:42:04",
          "2017-10-22 09:42:05",
          "2017-10-22 09:42:06",
          "2017-10-22 09:42:07",
          "2017-10-22 09:42:08",
          "2017-10-22 09:42:09",
          "2017-10-22 09:42:10",
          "2017-10-22 09:42:11",
          "2017-10-22 09:42:12",
          "2017-10-22 09:42:13",
          "2017-10-22 09:42:14",
          "2017-10-22 09:42:15",
          "2017-10-22 09:42:16",
          "2017-10-22 09:42:17",
          "2017-10-22 09:42:18",
          "2017-10-22 09:42:19",
          "2017-10-22 09:42:20",
          "2017-10-22 09:42:21",
          "2017-10-22 09:42:22",
          "2017-10-22 09:42:23",
          "2017-10-22 09:42:24",
          "2017-10-22 09:42:25",
          "2017-10-22 09:42:26",
          "2017-10-22 09:42:27",
          "2017-10-22 09:42:28",
          "2017-10-22 09:42:29",
          "2017-10-22 09:42:30",
          "2017-10-22 09:42:31",
          "2017-10-22 09:42:32",
          "2017-10-22 09:42:33",
          "2017-10-22 09:42:34",
          "2017-10-22 09:42:35",
          "2017-10-22 09:42:36",
          "2017-10-22 09:42:37",
          "2017-10-22 09:42:38",
          "2017-10-22 09:42:39",
          "2017-10-22 09:42:40",
          "2017-10-22 09:42:41",
          "2017-10-22 09:42:42",
          "2017-10-22 09:42:43"
         ],
         "xaxis": "x",
         "y": [
          28871,
          28874,
          28879,
          28879,
          28875,
          28871,
          28867,
          28866,
          28867,
          28870,
          28873,
          28876,
          28879,
          28881,
          28885,
          28887,
          28890,
          28894,
          28897,
          28901,
          28905,
          28908,
          28911,
          28912,
          28915,
          28913,
          28913,
          28914,
          28913,
          28914,
          28916,
          28913,
          28913,
          28909,
          28906,
          28900,
          28898,
          28893,
          28887,
          28883,
          28878,
          28873,
          28869,
          28864,
          28861,
          28857,
          28857,
          28853,
          28851,
          28847,
          28843,
          28840,
          28837,
          28833,
          28832,
          28828,
          28825,
          28823,
          28821,
          28820,
          28817,
          28816,
          28815,
          28815,
          28811,
          28808,
          28804,
          28798,
          28794,
          28791,
          28788,
          28787,
          28786,
          28784,
          28785,
          28783,
          28780,
          28777,
          28774,
          28773,
          28772,
          28768,
          28765,
          28761,
          28759,
          28756,
          28753,
          28750,
          28748,
          28746,
          28741,
          28739,
          28738,
          28734,
          28735,
          28734,
          28733,
          28735,
          28736,
          28736,
          28736,
          28734,
          28734,
          28736,
          28735,
          28735,
          28737,
          28737,
          28737,
          28734,
          28733,
          28734,
          28734,
          28731,
          28731,
          28728,
          28724,
          28720,
          28714,
          28710,
          28707,
          28705,
          28700,
          28695,
          28694,
          28690,
          28688,
          28684,
          28683,
          28681,
          28679,
          28678,
          28677,
          28677,
          28679,
          28677,
          28677,
          28677,
          28678,
          28679,
          28675,
          28674,
          28673
         ],
         "yaxis": "y"
        },
        {
         "hovertemplate": "variable=FAKE_LEAKAGE<br>Time=%{x}<br>Fuel (kg)=%{y}<extra></extra>",
         "legendgroup": "FAKE_LEAKAGE",
         "line": {
          "color": "#EF553B",
          "dash": "solid"
         },
         "marker": {
          "symbol": "circle"
         },
         "mode": "lines",
         "name": "FAKE_LEAKAGE",
         "orientation": "v",
         "showlegend": true,
         "type": "scatter",
         "x": [
          "2017-10-22 09:40:21",
          "2017-10-22 09:40:22",
          "2017-10-22 09:40:23",
          "2017-10-22 09:40:24",
          "2017-10-22 09:40:25",
          "2017-10-22 09:40:26",
          "2017-10-22 09:40:27",
          "2017-10-22 09:40:28",
          "2017-10-22 09:40:29",
          "2017-10-22 09:40:30",
          "2017-10-22 09:40:31",
          "2017-10-22 09:40:32",
          "2017-10-22 09:40:33",
          "2017-10-22 09:40:34",
          "2017-10-22 09:40:35",
          "2017-10-22 09:40:36",
          "2017-10-22 09:40:37",
          "2017-10-22 09:40:38",
          "2017-10-22 09:40:39",
          "2017-10-22 09:40:40",
          "2017-10-22 09:40:41",
          "2017-10-22 09:40:42",
          "2017-10-22 09:40:43",
          "2017-10-22 09:40:44",
          "2017-10-22 09:40:45",
          "2017-10-22 09:40:46",
          "2017-10-22 09:40:47",
          "2017-10-22 09:40:48",
          "2017-10-22 09:40:49",
          "2017-10-22 09:40:50",
          "2017-10-22 09:40:51",
          "2017-10-22 09:40:52",
          "2017-10-22 09:40:53",
          "2017-10-22 09:40:54",
          "2017-10-22 09:40:55",
          "2017-10-22 09:40:56",
          "2017-10-22 09:40:57",
          "2017-10-22 09:40:58",
          "2017-10-22 09:40:59",
          "2017-10-22 09:41:00",
          "2017-10-22 09:41:01",
          "2017-10-22 09:41:02",
          "2017-10-22 09:41:03",
          "2017-10-22 09:41:04",
          "2017-10-22 09:41:05",
          "2017-10-22 09:41:06",
          "2017-10-22 09:41:07",
          "2017-10-22 09:41:08",
          "2017-10-22 09:41:09",
          "2017-10-22 09:41:10",
          "2017-10-22 09:41:11",
          "2017-10-22 09:41:12",
          "2017-10-22 09:41:13",
          "2017-10-22 09:41:14",
          "2017-10-22 09:41:15",
          "2017-10-22 09:41:16",
          "2017-10-22 09:41:17",
          "2017-10-22 09:41:18",
          "2017-10-22 09:41:19",
          "2017-10-22 09:41:20",
          "2017-10-22 09:41:21",
          "2017-10-22 09:41:22",
          "2017-10-22 09:41:23",
          "2017-10-22 09:41:24",
          "2017-10-22 09:41:25",
          "2017-10-22 09:41:26",
          "2017-10-22 09:41:27",
          "2017-10-22 09:41:28",
          "2017-10-22 09:41:29",
          "2017-10-22 09:41:30",
          "2017-10-22 09:41:31",
          "2017-10-22 09:41:32",
          "2017-10-22 09:41:33",
          "2017-10-22 09:41:34",
          "2017-10-22 09:41:35",
          "2017-10-22 09:41:36",
          "2017-10-22 09:41:37",
          "2017-10-22 09:41:38",
          "2017-10-22 09:41:39",
          "2017-10-22 09:41:40",
          "2017-10-22 09:41:41",
          "2017-10-22 09:41:42",
          "2017-10-22 09:41:43",
          "2017-10-22 09:41:44",
          "2017-10-22 09:41:45",
          "2017-10-22 09:41:46",
          "2017-10-22 09:41:47",
          "2017-10-22 09:41:48",
          "2017-10-22 09:41:49",
          "2017-10-22 09:41:50",
          "2017-10-22 09:41:51",
          "2017-10-22 09:41:52",
          "2017-10-22 09:41:53",
          "2017-10-22 09:41:54",
          "2017-10-22 09:41:55",
          "2017-10-22 09:41:56",
          "2017-10-22 09:41:57",
          "2017-10-22 09:41:58",
          "2017-10-22 09:41:59",
          "2017-10-22 09:42:00",
          "2017-10-22 09:42:01",
          "2017-10-22 09:42:02",
          "2017-10-22 09:42:03",
          "2017-10-22 09:42:04",
          "2017-10-22 09:42:05",
          "2017-10-22 09:42:06",
          "2017-10-22 09:42:07",
          "2017-10-22 09:42:08",
          "2017-10-22 09:42:09",
          "2017-10-22 09:42:10",
          "2017-10-22 09:42:11",
          "2017-10-22 09:42:12",
          "2017-10-22 09:42:13",
          "2017-10-22 09:42:14",
          "2017-10-22 09:42:15",
          "2017-10-22 09:42:16",
          "2017-10-22 09:42:17",
          "2017-10-22 09:42:18",
          "2017-10-22 09:42:19",
          "2017-10-22 09:42:20",
          "2017-10-22 09:42:21",
          "2017-10-22 09:42:22",
          "2017-10-22 09:42:23",
          "2017-10-22 09:42:24",
          "2017-10-22 09:42:25",
          "2017-10-22 09:42:26",
          "2017-10-22 09:42:27",
          "2017-10-22 09:42:28",
          "2017-10-22 09:42:29",
          "2017-10-22 09:42:30",
          "2017-10-22 09:42:31",
          "2017-10-22 09:42:32",
          "2017-10-22 09:42:33",
          "2017-10-22 09:42:34",
          "2017-10-22 09:42:35",
          "2017-10-22 09:42:36",
          "2017-10-22 09:42:37",
          "2017-10-22 09:42:38",
          "2017-10-22 09:42:39",
          "2017-10-22 09:42:40",
          "2017-10-22 09:42:41",
          "2017-10-22 09:42:42",
          "2017-10-22 09:42:43"
         ],
         "xaxis": "x",
         "y": [
          28871,
          28874,
          28879,
          28879,
          28875,
          28871,
          28867,
          28866,
          28867,
          28870,
          28873,
          28876,
          28879,
          28881,
          28885,
          28887,
          28890,
          28894,
          28897,
          28901,
          28905,
          28908,
          28911,
          28912,
          28915,
          28913,
          28913,
          28914,
          28913,
          28914,
          28916,
          28913,
          28913,
          28909,
          28906,
          28900,
          28898,
          28893,
          28887,
          28883,
          28878,
          28873,
          28869,
          28864,
          28861,
          28857,
          28857,
          28853,
          28851,
          28847,
          28843,
          28840,
          28837,
          28833,
          28832,
          28828,
          28825,
          28823,
          28821,
          28820,
          28817,
          28816,
          28815,
          28815,
          28811,
          28808,
          28804,
          28798,
          28794,
          28791,
          28788,
          28787,
          28786,
          28784,
          28785,
          28783,
          28780,
          28777,
          28774,
          28773,
          28772,
          28768,
          28765,
          28761,
          28759,
          28756,
          28753,
          28750,
          28748,
          28746,
          28741,
          28739,
          28738,
          28734,
          28735,
          28734,
          28733,
          28735,
          28736,
          28736,
          28736,
          28734,
          28734,
          28736,
          28735,
          28735,
          28737,
          28737,
          28737,
          28734,
          28733,
          28734,
          28734,
          28731,
          28731,
          28728,
          28724,
          28720,
          28714,
          28709.5,
          28706,
          28703.5,
          28698,
          28692.5,
          28691,
          28686.5,
          28684,
          28679.5,
          28678,
          28675.5,
          28673,
          28671.5,
          28670,
          28669.5,
          28671,
          28668.5,
          28668,
          28667.5,
          28668,
          28668.5,
          28664,
          28662.5,
          28661
         ],
         "yaxis": "y"
        }
       ],
       "layout": {
        "legend": {
         "title": {
          "text": "Fuel Metrics"
         },
         "tracegroupgap": 0
        },
        "template": {
         "data": {
          "bar": [
           {
            "error_x": {
             "color": "#2a3f5f"
            },
            "error_y": {
             "color": "#2a3f5f"
            },
            "marker": {
             "line": {
              "color": "#E5ECF6",
              "width": 0.5
             },
             "pattern": {
              "fillmode": "overlay",
              "size": 10,
              "solidity": 0.2
             }
            },
            "type": "bar"
           }
          ],
          "barpolar": [
           {
            "marker": {
             "line": {
              "color": "#E5ECF6",
              "width": 0.5
             },
             "pattern": {
              "fillmode": "overlay",
              "size": 10,
              "solidity": 0.2
             }
            },
            "type": "barpolar"
           }
          ],
          "carpet": [
           {
            "aaxis": {
             "endlinecolor": "#2a3f5f",
             "gridcolor": "white",
             "linecolor": "white",
             "minorgridcolor": "white",
             "startlinecolor": "#2a3f5f"
            },
            "baxis": {
             "endlinecolor": "#2a3f5f",
             "gridcolor": "white",
             "linecolor": "white",
             "minorgridcolor": "white",
             "startlinecolor": "#2a3f5f"
            },
            "type": "carpet"
           }
          ],
          "choropleth": [
           {
            "colorbar": {
             "outlinewidth": 0,
             "ticks": ""
            },
            "type": "choropleth"
           }
          ],
          "contour": [
           {
            "colorbar": {
             "outlinewidth": 0,
             "ticks": ""
            },
            "colorscale": [
             [
              0,
              "#0d0887"
             ],
             [
              0.1111111111111111,
              "#46039f"
             ],
             [
              0.2222222222222222,
              "#7201a8"
             ],
             [
              0.3333333333333333,
              "#9c179e"
             ],
             [
              0.4444444444444444,
              "#bd3786"
             ],
             [
              0.5555555555555556,
              "#d8576b"
             ],
             [
              0.6666666666666666,
              "#ed7953"
             ],
             [
              0.7777777777777778,
              "#fb9f3a"
             ],
             [
              0.8888888888888888,
              "#fdca26"
             ],
             [
              1,
              "#f0f921"
             ]
            ],
            "type": "contour"
           }
          ],
          "contourcarpet": [
           {
            "colorbar": {
             "outlinewidth": 0,
             "ticks": ""
            },
            "type": "contourcarpet"
           }
          ],
          "heatmap": [
           {
            "colorbar": {
             "outlinewidth": 0,
             "ticks": ""
            },
            "colorscale": [
             [
              0,
              "#0d0887"
             ],
             [
              0.1111111111111111,
              "#46039f"
             ],
             [
              0.2222222222222222,
              "#7201a8"
             ],
             [
              0.3333333333333333,
              "#9c179e"
             ],
             [
              0.4444444444444444,
              "#bd3786"
             ],
             [
              0.5555555555555556,
              "#d8576b"
             ],
             [
              0.6666666666666666,
              "#ed7953"
             ],
             [
              0.7777777777777778,
              "#fb9f3a"
             ],
             [
              0.8888888888888888,
              "#fdca26"
             ],
             [
              1,
              "#f0f921"
             ]
            ],
            "type": "heatmap"
           }
          ],
          "heatmapgl": [
           {
            "colorbar": {
             "outlinewidth": 0,
             "ticks": ""
            },
            "colorscale": [
             [
              0,
              "#0d0887"
             ],
             [
              0.1111111111111111,
              "#46039f"
             ],
             [
              0.2222222222222222,
              "#7201a8"
             ],
             [
              0.3333333333333333,
              "#9c179e"
             ],
             [
              0.4444444444444444,
              "#bd3786"
             ],
             [
              0.5555555555555556,
              "#d8576b"
             ],
             [
              0.6666666666666666,
              "#ed7953"
             ],
             [
              0.7777777777777778,
              "#fb9f3a"
             ],
             [
              0.8888888888888888,
              "#fdca26"
             ],
             [
              1,
              "#f0f921"
             ]
            ],
            "type": "heatmapgl"
           }
          ],
          "histogram": [
           {
            "marker": {
             "pattern": {
              "fillmode": "overlay",
              "size": 10,
              "solidity": 0.2
             }
            },
            "type": "histogram"
           }
          ],
          "histogram2d": [
           {
            "colorbar": {
             "outlinewidth": 0,
             "ticks": ""
            },
            "colorscale": [
             [
              0,
              "#0d0887"
             ],
             [
              0.1111111111111111,
              "#46039f"
             ],
             [
              0.2222222222222222,
              "#7201a8"
             ],
             [
              0.3333333333333333,
              "#9c179e"
             ],
             [
              0.4444444444444444,
              "#bd3786"
             ],
             [
              0.5555555555555556,
              "#d8576b"
             ],
             [
              0.6666666666666666,
              "#ed7953"
             ],
             [
              0.7777777777777778,
              "#fb9f3a"
             ],
             [
              0.8888888888888888,
              "#fdca26"
             ],
             [
              1,
              "#f0f921"
             ]
            ],
            "type": "histogram2d"
           }
          ],
          "histogram2dcontour": [
           {
            "colorbar": {
             "outlinewidth": 0,
             "ticks": ""
            },
            "colorscale": [
             [
              0,
              "#0d0887"
             ],
             [
              0.1111111111111111,
              "#46039f"
             ],
             [
              0.2222222222222222,
              "#7201a8"
             ],
             [
              0.3333333333333333,
              "#9c179e"
             ],
             [
              0.4444444444444444,
              "#bd3786"
             ],
             [
              0.5555555555555556,
              "#d8576b"
             ],
             [
              0.6666666666666666,
              "#ed7953"
             ],
             [
              0.7777777777777778,
              "#fb9f3a"
             ],
             [
              0.8888888888888888,
              "#fdca26"
             ],
             [
              1,
              "#f0f921"
             ]
            ],
            "type": "histogram2dcontour"
           }
          ],
          "mesh3d": [
           {
            "colorbar": {
             "outlinewidth": 0,
             "ticks": ""
            },
            "type": "mesh3d"
           }
          ],
          "parcoords": [
           {
            "line": {
             "colorbar": {
              "outlinewidth": 0,
              "ticks": ""
             }
            },
            "type": "parcoords"
           }
          ],
          "pie": [
           {
            "automargin": true,
            "type": "pie"
           }
          ],
          "scatter": [
           {
            "fillpattern": {
             "fillmode": "overlay",
             "size": 10,
             "solidity": 0.2
            },
            "type": "scatter"
           }
          ],
          "scatter3d": [
           {
            "line": {
             "colorbar": {
              "outlinewidth": 0,
              "ticks": ""
             }
            },
            "marker": {
             "colorbar": {
              "outlinewidth": 0,
              "ticks": ""
             }
            },
            "type": "scatter3d"
           }
          ],
          "scattercarpet": [
           {
            "marker": {
             "colorbar": {
              "outlinewidth": 0,
              "ticks": ""
             }
            },
            "type": "scattercarpet"
           }
          ],
          "scattergeo": [
           {
            "marker": {
             "colorbar": {
              "outlinewidth": 0,
              "ticks": ""
             }
            },
            "type": "scattergeo"
           }
          ],
          "scattergl": [
           {
            "marker": {
             "colorbar": {
              "outlinewidth": 0,
              "ticks": ""
             }
            },
            "type": "scattergl"
           }
          ],
          "scattermapbox": [
           {
            "marker": {
             "colorbar": {
              "outlinewidth": 0,
              "ticks": ""
             }
            },
            "type": "scattermapbox"
           }
          ],
          "scatterpolar": [
           {
            "marker": {
             "colorbar": {
              "outlinewidth": 0,
              "ticks": ""
             }
            },
            "type": "scatterpolar"
           }
          ],
          "scatterpolargl": [
           {
            "marker": {
             "colorbar": {
              "outlinewidth": 0,
              "ticks": ""
             }
            },
            "type": "scatterpolargl"
           }
          ],
          "scatterternary": [
           {
            "marker": {
             "colorbar": {
              "outlinewidth": 0,
              "ticks": ""
             }
            },
            "type": "scatterternary"
           }
          ],
          "surface": [
           {
            "colorbar": {
             "outlinewidth": 0,
             "ticks": ""
            },
            "colorscale": [
             [
              0,
              "#0d0887"
             ],
             [
              0.1111111111111111,
              "#46039f"
             ],
             [
              0.2222222222222222,
              "#7201a8"
             ],
             [
              0.3333333333333333,
              "#9c179e"
             ],
             [
              0.4444444444444444,
              "#bd3786"
             ],
             [
              0.5555555555555556,
              "#d8576b"
             ],
             [
              0.6666666666666666,
              "#ed7953"
             ],
             [
              0.7777777777777778,
              "#fb9f3a"
             ],
             [
              0.8888888888888888,
              "#fdca26"
             ],
             [
              1,
              "#f0f921"
             ]
            ],
            "type": "surface"
           }
          ],
          "table": [
           {
            "cells": {
             "fill": {
              "color": "#EBF0F8"
             },
             "line": {
              "color": "white"
             }
            },
            "header": {
             "fill": {
              "color": "#C8D4E3"
             },
             "line": {
              "color": "white"
             }
            },
            "type": "table"
           }
          ]
         },
         "layout": {
          "annotationdefaults": {
           "arrowcolor": "#2a3f5f",
           "arrowhead": 0,
           "arrowwidth": 1
          },
          "autotypenumbers": "strict",
          "coloraxis": {
           "colorbar": {
            "outlinewidth": 0,
            "ticks": ""
           }
          },
          "colorscale": {
           "diverging": [
            [
             0,
             "#8e0152"
            ],
            [
             0.1,
             "#c51b7d"
            ],
            [
             0.2,
             "#de77ae"
            ],
            [
             0.3,
             "#f1b6da"
            ],
            [
             0.4,
             "#fde0ef"
            ],
            [
             0.5,
             "#f7f7f7"
            ],
            [
             0.6,
             "#e6f5d0"
            ],
            [
             0.7,
             "#b8e186"
            ],
            [
             0.8,
             "#7fbc41"
            ],
            [
             0.9,
             "#4d9221"
            ],
            [
             1,
             "#276419"
            ]
           ],
           "sequential": [
            [
             0,
             "#0d0887"
            ],
            [
             0.1111111111111111,
             "#46039f"
            ],
            [
             0.2222222222222222,
             "#7201a8"
            ],
            [
             0.3333333333333333,
             "#9c179e"
            ],
            [
             0.4444444444444444,
             "#bd3786"
            ],
            [
             0.5555555555555556,
             "#d8576b"
            ],
            [
             0.6666666666666666,
             "#ed7953"
            ],
            [
             0.7777777777777778,
             "#fb9f3a"
            ],
            [
             0.8888888888888888,
             "#fdca26"
            ],
            [
             1,
             "#f0f921"
            ]
           ],
           "sequentialminus": [
            [
             0,
             "#0d0887"
            ],
            [
             0.1111111111111111,
             "#46039f"
            ],
            [
             0.2222222222222222,
             "#7201a8"
            ],
            [
             0.3333333333333333,
             "#9c179e"
            ],
            [
             0.4444444444444444,
             "#bd3786"
            ],
            [
             0.5555555555555556,
             "#d8576b"
            ],
            [
             0.6666666666666666,
             "#ed7953"
            ],
            [
             0.7777777777777778,
             "#fb9f3a"
            ],
            [
             0.8888888888888888,
             "#fdca26"
            ],
            [
             1,
             "#f0f921"
            ]
           ]
          },
          "colorway": [
           "#636efa",
           "#EF553B",
           "#00cc96",
           "#ab63fa",
           "#FFA15A",
           "#19d3f3",
           "#FF6692",
           "#B6E880",
           "#FF97FF",
           "#FECB52"
          ],
          "font": {
           "color": "#2a3f5f"
          },
          "geo": {
           "bgcolor": "white",
           "lakecolor": "white",
           "landcolor": "#E5ECF6",
           "showlakes": true,
           "showland": true,
           "subunitcolor": "white"
          },
          "hoverlabel": {
           "align": "left"
          },
          "hovermode": "closest",
          "mapbox": {
           "style": "light"
          },
          "paper_bgcolor": "white",
          "plot_bgcolor": "#E5ECF6",
          "polar": {
           "angularaxis": {
            "gridcolor": "white",
            "linecolor": "white",
            "ticks": ""
           },
           "bgcolor": "#E5ECF6",
           "radialaxis": {
            "gridcolor": "white",
            "linecolor": "white",
            "ticks": ""
           }
          },
          "scene": {
           "xaxis": {
            "backgroundcolor": "#E5ECF6",
            "gridcolor": "white",
            "gridwidth": 2,
            "linecolor": "white",
            "showbackground": true,
            "ticks": "",
            "zerolinecolor": "white"
           },
           "yaxis": {
            "backgroundcolor": "#E5ECF6",
            "gridcolor": "white",
            "gridwidth": 2,
            "linecolor": "white",
            "showbackground": true,
            "ticks": "",
            "zerolinecolor": "white"
           },
           "zaxis": {
            "backgroundcolor": "#E5ECF6",
            "gridcolor": "white",
            "gridwidth": 2,
            "linecolor": "white",
            "showbackground": true,
            "ticks": "",
            "zerolinecolor": "white"
           }
          },
          "shapedefaults": {
           "line": {
            "color": "#2a3f5f"
           }
          },
          "ternary": {
           "aaxis": {
            "gridcolor": "white",
            "linecolor": "white",
            "ticks": ""
           },
           "baxis": {
            "gridcolor": "white",
            "linecolor": "white",
            "ticks": ""
           },
           "bgcolor": "#E5ECF6",
           "caxis": {
            "gridcolor": "white",
            "linecolor": "white",
            "ticks": ""
           }
          },
          "title": {
           "x": 0.05
          },
          "xaxis": {
           "automargin": true,
           "gridcolor": "white",
           "linecolor": "white",
           "ticks": "",
           "title": {
            "standoff": 15
           },
           "zerolinecolor": "white",
           "zerolinewidth": 2
          },
          "yaxis": {
           "automargin": true,
           "gridcolor": "white",
           "linecolor": "white",
           "ticks": "",
           "title": {
            "standoff": 15
           },
           "zerolinecolor": "white",
           "zerolinewidth": 2
          }
         }
        },
        "title": {
         "text": "Trend of Fuel Usage with Simulated Leakage for Flight 1995.0L"
        },
        "xaxis": {
         "anchor": "y",
         "domain": [
          0,
          1
         ],
         "title": {
          "text": "Time"
         }
        },
        "yaxis": {
         "anchor": "x",
         "domain": [
          0,
          1
         ],
         "title": {
          "text": "Fuel (kg)"
         }
        }
       }
      }
     },
     "metadata": {},
     "output_type": "display_data"
    }
   ],
   "source": [
    "import pandas as pd\n",
    "import numpy as np\n",
    "import plotly.express as px\n",
    "\n",
    "# Assuming combined is your preprocessed dataset\n",
    "combined = combined.copy()\n",
    "\n",
    "# Ensure 'VALUE_FOB' is present in the dataset\n",
    "if 'VALUE_FOB' not in combined.columns:\n",
    "    raise KeyError(\"The dataset must contain the 'VALUE_FOB' column.\")\n",
    "\n",
    "# Function to simulate a leak starting mid-flight\n",
    "def simulate_fake_leakage(flight_data, leak_rate, start_point):\n",
    "    flight_data = flight_data.copy()\n",
    "    leak_duration = len(flight_data) - start_point\n",
    "    leak_loss = np.zeros(len(flight_data))\n",
    "    leak_loss[start_point:] = np.arange(leak_duration) * leak_rate\n",
    "    flight_data['FAKE_LEAKAGE'] = flight_data['VALUE_FOB'] - leak_loss\n",
    "    flight_data['LEAK'] = 0\n",
    "    flight_data.iloc[start_point:, flight_data.columns.get_loc('LEAK')] = 1\n",
    "    return flight_data\n",
    "\n",
    "# Randomly select flights to add fake leakage\n",
    "random_flights = combined['Flight'].unique()\n",
    "np.random.seed(42)  # For reproducibility\n",
    "selected_flights = np.random.choice(random_flights, size=100, replace=False)  # Select 100 random flights\n",
    "\n",
    "# Initialize FAKE_LEAKAGE column with VALUE_FOB values\n",
    "combined['FAKE_LEAKAGE'] = combined['VALUE_FOB']\n",
    "combined['LEAK'] = 0  # Initialize LEAK column\n",
    "\n",
    "# Apply the fake leakage simulation to selected flights\n",
    "leak_rate = 0.5  # Define a leak rate\n",
    "\n",
    "for flight in selected_flights:\n",
    "    flight_data = combined[combined['Flight'] == flight]\n",
    "    start_point = np.random.randint(len(flight_data) // 2, len(flight_data))  # Start leak mid-flight\n",
    "    simulated_data = simulate_fake_leakage(flight_data, leak_rate, start_point)\n",
    "    combined.loc[combined['Flight'] == flight, ['FAKE_LEAKAGE', 'LEAK']] = simulated_data[['FAKE_LEAKAGE', 'LEAK']]\n",
    "\n",
    "# Print out where the fake leakages were implemented\n",
    "for flight in selected_flights:\n",
    "    print(f\"Fake leakage implemented in flight: {flight} starting from mid-flight.\")\n",
    "\n",
    "import random\n",
    "\n",
    "# Select a flight at random\n",
    "random_leak_flight = str(random.choice(selected_flights)) + 'L'\n",
    "\n",
    "# Get the data for the selected flight\n",
    "flight_data = combined[combined['Flight'] == random_leak_flight]\n",
    "\n",
    "# Plot the data\n",
    "fig = px.line(flight_data, x='UTC_TIME', y=['VALUE_FOB', 'FAKE_LEAKAGE'],\n",
    "              labels={'value': 'Fuel (kg)', 'UTC_TIME': 'Time'},\n",
    "              title=f'Trend of Fuel Usage with Simulated Leakage for Flight {random_leak_flight}')\n",
    "fig.update_layout(legend_title_text='Fuel Metrics')\n",
    "fig.show()\n"
   ]
  },
  {
   "cell_type": "code",
   "execution_count": 39,
   "metadata": {},
   "outputs": [],
   "source": [
    "# Create a new column called total_fuel_used which is the sum of FUEL_USED_1, FUEL_USED_2, FUEL_USED_3, and FUEL_USED_4\n",
    "combined['total_fuel_used'] = combined['FUEL_USED_1'] + combined['FUEL_USED_2'] + combined['FUEL_USED_3'] + combined['FUEL_USED_4']\n",
    "\n",
    "# Create a new column called Fuel_On_board_tanks which is the sum of various fuel quantity measurements from different tanks\n",
    "combined['Fuel_On_board_tanks'] = (combined['VALUE_FUEL_QTY_CT'] + combined['VALUE_FUEL_QTY_FT1'] + combined['VALUE_FUEL_QTY_FT2'] +\n",
    "                                   combined['VALUE_FUEL_QTY_FT3'] + combined['VALUE_FUEL_QTY_FT4'] + combined['VALUE_FUEL_QTY_LXT'] + \n",
    "                                   combined['VALUE_FUEL_QTY_RXT'])\n",
    "\n",
    "# Create a new column to calculate the difference between VALUE_FOB and total_fuel_used\n",
    "combined['FOB - total_fuel_used'] = combined['VALUE_FOB'] - combined['total_fuel_used']\n",
    "\n",
    "# Calculate the difference in VALUE_FOB between consecutive rows and store it in a new column fuel_used_per_minute_FOB_diff\n",
    "combined['fuel_used_per_minute_FOB_diff'] = combined['VALUE_FOB'].diff()\n",
    "\n",
    "# Calculate the difference in total_fuel_used between consecutive rows and store it in a new column fuel_used_per_minute_total_fuel_used_diff\n",
    "combined['fuel_used_per_minute_total_fuel_used_diff'] = combined['total_fuel_used'].diff()\n",
    "\n",
    "# Calculate the cumulative sum of total_fuel_used and store it in a new column cummalitive_fuel_used\n",
    "combined['cummalitive_fuel_used'] = combined['total_fuel_used'].cumsum()\n",
    "\n",
    "# Record the initial VALUE_FOB for each flight and store it in a new column initial_FOB\n",
    "combined['initial_FOB'] = combined.groupby('Flight')['VALUE_FOB'].transform('first')\n",
    "\n",
    "# Calculate the initial fuel on board from the tanks for each flight and store it in a new column initial_FOB_calculated\n",
    "combined['initial_FOB_calculated'] = combined.groupby('Flight')['Fuel_On_board_tanks'].transform('first')\n",
    "\n",
    "# Create a new column fuel_used+FOB by adding total_fuel_used to VALUE_FOB\n",
    "combined['fuel_used+FOB'] = combined['total_fuel_used'] + combined['VALUE_FOB']\n",
    "\n",
    "# Calculate the difference between initial_FOB and fuel_used+FOB and store it in a new column diff_initial_FOB_fuel_used+FOB\n",
    "combined['diff_initial_FOB_fuel_used+FOB'] = combined['initial_FOB'] - combined['fuel_used+FOB']\n",
    "\n",
    "# Predict the fuel on board by subtracting total_fuel_used from initial_FOB and store it in a new column predicted_FOB\n",
    "combined['predicted_FOB'] = combined['initial_FOB'] - combined['total_fuel_used']\n",
    "\n",
    "# Calculate the difference between initial_FOB and initial_FOB_calculated and store it in a new column diff_initial_FOB\n",
    "combined['diff_initial_FOB'] = combined['initial_FOB'] - combined['initial_FOB_calculated']\n",
    "\n",
    "# Calculate the difference in altitude between consecutive rows and store it in a new column alititude_diff\n",
    "combined['alititude_diff'] = combined['FW_GEO_ALTITUDE'].diff()\n",
    "\n",
    "# Calculate the difference in VALUE_FOB between consecutive rows and store it in a new column diff_FOB\n",
    "combined['diff_FOB'] = combined['VALUE_FOB'].diff()\n",
    "\n",
    "# Calculate the difference between VALUE_FOB and predicted_FOB and store it in a new column Real_FOB-predicted_FOB\n",
    "combined['Real_FOB-predicted_FOB'] = combined['VALUE_FOB'] - combined['predicted_FOB']"
   ]
  },
  {
   "cell_type": "code",
   "execution_count": 40,
   "metadata": {},
   "outputs": [],
   "source": [
    "# Export the modified dataset to a CSV file\n",
    "combined.to_csv('combined_leaks.csv', index=False)"
   ]
  },
  {
   "cell_type": "code",
   "execution_count": null,
   "metadata": {},
   "outputs": [],
   "source": []
  }
 ],
 "metadata": {
  "kernelspec": {
   "display_name": "Python 3",
   "language": "python",
   "name": "python3"
  },
  "language_info": {
   "codemirror_mode": {
    "name": "ipython",
    "version": 3
   },
   "file_extension": ".py",
   "mimetype": "text/x-python",
   "name": "python",
   "nbconvert_exporter": "python",
   "pygments_lexer": "ipython3",
   "version": "3.11.4"
  }
 },
 "nbformat": 4,
 "nbformat_minor": 2
}
